{
  "nbformat": 4,
  "nbformat_minor": 0,
  "metadata": {
    "colab": {
      "name": "Installation Docker sous Ubuntu 18.04.ipynb",
      "provenance": [],
      "collapsed_sections": [],
      "authorship_tag": "ABX9TyPae/Y+jzBC/8cpD8vzeQV5",
      "include_colab_link": true
    },
    "kernelspec": {
      "name": "python3",
      "display_name": "Python 3"
    }
  },
  "cells": [
    {
      "cell_type": "markdown",
      "metadata": {
        "id": "view-in-github",
        "colab_type": "text"
      },
      "source": [
        "<a href=\"https://colab.research.google.com/github/crystalloide/Big_Data/blob/master/Installation_Docker_sous_Ubuntu_18_04.ipynb\" target=\"_parent\"><img src=\"https://colab.research.google.com/assets/colab-badge.svg\" alt=\"Open In Colab\"/></a>"
      ]
    },
    {
      "cell_type": "markdown",
      "metadata": {
        "id": "t8RFor_0McRq",
        "colab_type": "text"
      },
      "source": [
        "Afficher la version du système : \n"
      ]
    },
    {
      "cell_type": "code",
      "metadata": {
        "id": "QmcfzvyTL-WB",
        "colab_type": "code",
        "outputId": "652a88ff-49a3-4923-f38e-12d9950cf0f3",
        "colab": {
          "base_uri": "https://localhost:8080/",
          "height": 51
        }
      },
      "source": [
        "cat /etc/issue"
      ],
      "execution_count": 0,
      "outputs": [
        {
          "output_type": "stream",
          "text": [
            "Ubuntu 18.04.3 LTS \\n \\l\n",
            "\n"
          ],
          "name": "stdout"
        }
      ]
    },
    {
      "cell_type": "markdown",
      "metadata": {
        "id": "danix3MuNmZm",
        "colab_type": "text"
      },
      "source": [
        "Commencez par mettre à jour votre liste de paquets existante :\n",
        "\n",
        "Voir le lien suivant : https://www.digitalocean.com/community/tutorials/comment-installer-et-utiliser-docker-sur-ubuntu-18-04-fr"
      ]
    },
    {
      "cell_type": "code",
      "metadata": {
        "id": "71j5FKMHNo4C",
        "colab_type": "code",
        "outputId": "3661ef55-1a97-42ad-8663-0a0d1286c883",
        "colab": {
          "base_uri": "https://localhost:8080/",
          "height": 289
        }
      },
      "source": [
        "!sudo apt update"
      ],
      "execution_count": 0,
      "outputs": [
        {
          "output_type": "stream",
          "text": [
            "\u001b[33m\r0% [Working]\u001b[0m\r            \rHit:1 https://download.docker.com/linux/ubuntu bionic InRelease\n",
            "\u001b[33m\r0% [Connecting to archive.ubuntu.com] [Connecting to security.ubuntu.com (91.18\u001b[0m\u001b[33m\r0% [1 InRelease gpgv 64.4 kB] [Connecting to archive.ubuntu.com] [Connecting to\u001b[0m\r                                                                               \rHit:2 https://cloud.r-project.org/bin/linux/ubuntu bionic-cran35/ InRelease\n",
            "\u001b[33m\r0% [1 InRelease gpgv 64.4 kB] [Connecting to archive.ubuntu.com] [Connecting to\u001b[0m\r                                                                               \rIgn:3 https://developer.download.nvidia.com/compute/cuda/repos/ubuntu1804/x86_64  InRelease\n",
            "\u001b[33m\r0% [1 InRelease gpgv 64.4 kB] [Connecting to archive.ubuntu.com] [Waiting for h\u001b[0m\r                                                                               \rIgn:4 https://developer.download.nvidia.com/compute/machine-learning/repos/ubuntu1804/x86_64  InRelease\n",
            "\u001b[33m\r0% [1 InRelease gpgv 64.4 kB] [Connecting to archive.ubuntu.com] [Waiting for h\u001b[0m\r                                                                               \rHit:5 https://developer.download.nvidia.com/compute/cuda/repos/ubuntu1804/x86_64  Release\n",
            "\u001b[33m\r0% [1 InRelease gpgv 64.4 kB] [Connecting to archive.ubuntu.com] [Waiting for h\u001b[0m\r                                                                               \rHit:6 https://developer.download.nvidia.com/compute/machine-learning/repos/ubuntu1804/x86_64  Release\n",
            "\u001b[33m\r0% [1 InRelease gpgv 64.4 kB] [Connecting to archive.ubuntu.com] [Waiting for h\u001b[0m\r                                                                               \rHit:7 http://security.ubuntu.com/ubuntu bionic-security InRelease\n",
            "\u001b[33m\r0% [1 InRelease gpgv 64.4 kB] [Connecting to archive.ubuntu.com] [Waiting for h\u001b[0m\u001b[33m\r                                                                               \r0% [Connecting to archive.ubuntu.com (91.189.88.142)] [Waiting for headers]\u001b[0m\u001b[33m\r0% [2 InRelease gpgv 3,626 B] [Connecting to archive.ubuntu.com (91.189.88.142)\u001b[0m\u001b[33m\r                                                                               \r0% [Connecting to archive.ubuntu.com (91.189.88.142)] [Waiting for headers]\u001b[0m\u001b[33m\r0% [Release.gpg gpgv 564 B] [Connecting to archive.ubuntu.com (91.189.88.142)] \u001b[0m\r                                                                               \rHit:8 http://ppa.launchpad.net/graphics-drivers/ppa/ubuntu bionic InRelease\n",
            "\u001b[33m\r0% [Release.gpg gpgv 564 B] [Connecting to archive.ubuntu.com (91.189.88.142)] \u001b[0m\u001b[33m\r                                                                               \r0% [Waiting for headers] [Connecting to ppa.launchpad.net (91.189.95.83)]\u001b[0m\u001b[33m\r0% [Release.gpg gpgv 564 B] [Waiting for headers] [Connecting to ppa.launchpad.\u001b[0m\u001b[33m\r                                                                               \r0% [Waiting for headers] [Connecting to ppa.launchpad.net (91.189.95.83)]\u001b[0m\u001b[33m\r0% [7 InRelease gpgv 88.7 kB] [Waiting for headers] [Connecting to ppa.launchpa\u001b[0m\r                                                                               \rHit:11 http://archive.ubuntu.com/ubuntu bionic InRelease\n",
            "\u001b[33m\r                                                                               \r0% [7 InRelease gpgv 88.7 kB] [Waiting for headers] [Waiting for headers]\u001b[0m\u001b[33m\r                                                                         \r0% [Waiting for headers] [Waiting for headers]\u001b[0m\u001b[33m\r0% [8 InRelease gpgv 21.3 kB] [Waiting for headers] [Waiting for headers]\u001b[0m\r                                                                         \rHit:12 http://ppa.launchpad.net/marutter/c2d4u3.5/ubuntu bionic InRelease\n",
            "\u001b[33m\r                                                                         \r0% [8 InRelease gpgv 21.3 kB] [Waiting for headers]\u001b[0m\r                                                   \rHit:13 http://archive.ubuntu.com/ubuntu bionic-updates InRelease\n",
            "Hit:14 http://archive.ubuntu.com/ubuntu bionic-backports InRelease\n",
            "Reading package lists... Done\n",
            "Building dependency tree       \n",
            "Reading state information... Done\n",
            "56 packages can be upgraded. Run 'apt list --upgradable' to see them.\n"
          ],
          "name": "stdout"
        }
      ]
    },
    {
      "cell_type": "markdown",
      "metadata": {
        "id": "1-edqgScOF1Z",
        "colab_type": "text"
      },
      "source": [
        "Ensuite, installez quelques paquets pré-requis qui permettent à ʻapt` d'utiliser les paquets via HTTPS:"
      ]
    },
    {
      "cell_type": "code",
      "metadata": {
        "id": "FqLL4LTeNzMh",
        "colab_type": "code",
        "outputId": "d07933e7-9a2c-4aeb-9655-765b6fc578c4",
        "colab": {
          "base_uri": "https://localhost:8080/",
          "height": 153
        }
      },
      "source": [
        "!sudo apt install apt-transport-https ca-certificates curl software-properties-common"
      ],
      "execution_count": 0,
      "outputs": [
        {
          "output_type": "stream",
          "text": [
            "\rReading package lists... 0%\r\rReading package lists... 0%\r\rReading package lists... 0%\r\rReading package lists... 6%\r\rReading package lists... 6%\r\rReading package lists... 7%\r\rReading package lists... 7%\r\rReading package lists... 63%\r\rReading package lists... 63%\r\rReading package lists... 63%\r\rReading package lists... 64%\r\rReading package lists... 64%\r\rReading package lists... 71%\r\rReading package lists... 71%\r\rReading package lists... 72%\r\rReading package lists... 72%\r\rReading package lists... 81%\r\rReading package lists... 81%\r\rReading package lists... 81%\r\rReading package lists... 81%\r\rReading package lists... 81%\r\rReading package lists... 81%\r\rReading package lists... 81%\r\rReading package lists... 81%\r\rReading package lists... 87%\r\rReading package lists... 87%\r\rReading package lists... 87%\r\rReading package lists... 87%\r\rReading package lists... 93%\r\rReading package lists... 93%\r\rReading package lists... 93%\r\rReading package lists... 93%\r\rReading package lists... 93%\r\rReading package lists... 93%\r\rReading package lists... 93%\r\rReading package lists... 93%\r\rReading package lists... 94%\r\rReading package lists... 94%\r\rReading package lists... 95%\r\rReading package lists... 95%\r\rReading package lists... 98%\r\rReading package lists... 98%\r\rReading package lists... 98%\r\rReading package lists... 98%\r\rReading package lists... Done\r\n",
            "\rBuilding dependency tree... 0%\r\rBuilding dependency tree... 0%\r\rBuilding dependency tree... 50%\r\rBuilding dependency tree... 50%\r\rBuilding dependency tree       \r\n",
            "\rReading state information... 0%\r\rReading state information... 0%\r\rReading state information... Done\r\n",
            "ca-certificates is already the newest version (20180409).\n",
            "curl is already the newest version (7.58.0-2ubuntu3.8).\n",
            "software-properties-common is already the newest version (0.96.24.32.12).\n",
            "apt-transport-https is already the newest version (1.6.12).\n",
            "0 upgraded, 0 newly installed, 0 to remove and 56 not upgraded.\n"
          ],
          "name": "stdout"
        }
      ]
    },
    {
      "cell_type": "markdown",
      "metadata": {
        "id": "KTDUWKBRORr1",
        "colab_type": "text"
      },
      "source": [
        "Ajoutez ensuite la clé GPG du référentiel Docker officiel à votre système :"
      ]
    },
    {
      "cell_type": "code",
      "metadata": {
        "id": "A0QLrQ3eObe5",
        "colab_type": "code",
        "outputId": "a715b50c-6f15-4565-b6ea-1429dc99e823",
        "colab": {
          "base_uri": "https://localhost:8080/",
          "height": 34
        }
      },
      "source": [
        "!curl -fsSL https://download.docker.com/linux/ubuntu/gpg | sudo apt-key add -"
      ],
      "execution_count": 0,
      "outputs": [
        {
          "output_type": "stream",
          "text": [
            "OK\n"
          ],
          "name": "stdout"
        }
      ]
    },
    {
      "cell_type": "markdown",
      "metadata": {
        "id": "5nbN3SalME8H",
        "colab_type": "text"
      },
      "source": [
        "Ajoutez le référentiel Docker aux sources APT :"
      ]
    },
    {
      "cell_type": "code",
      "metadata": {
        "id": "vLThhDjXMB30",
        "colab_type": "code",
        "outputId": "65016fd5-d60b-45bc-fcbc-9c001f33212b",
        "colab": {
          "base_uri": "https://localhost:8080/",
          "height": 238
        }
      },
      "source": [
        "# sudo dnf config-manager --add repo=https://download.docker.com/linux/centos/docker-ce.repo\n",
        "\n",
        "!sudo add-apt-repository \"deb [arch=amd64] https://download.docker.com/linux/ubuntu bionic stable\""
      ],
      "execution_count": 0,
      "outputs": [
        {
          "output_type": "stream",
          "text": [
            "\r0% [Working]\r            \rHit:1 https://download.docker.com/linux/ubuntu bionic InRelease\n",
            "\r0% [Connecting to archive.ubuntu.com (91.189.88.142)] [Connecting to security.u\r                                                                               \rHit:2 https://cloud.r-project.org/bin/linux/ubuntu bionic-cran35/ InRelease\n",
            "\r0% [Connecting to archive.ubuntu.com (91.189.88.142)] [Connecting to security.u\r0% [1 InRelease gpgv 64.4 kB] [Connecting to archive.ubuntu.com (91.189.88.142)\r                                                                               \rIgn:3 https://developer.download.nvidia.com/compute/cuda/repos/ubuntu1804/x86_64  InRelease\n",
            "\r0% [1 InRelease gpgv 64.4 kB] [Connecting to archive.ubuntu.com (91.189.88.142)\r                                                                               \rIgn:4 https://developer.download.nvidia.com/compute/machine-learning/repos/ubuntu1804/x86_64  InRelease\n",
            "\r0% [1 InRelease gpgv 64.4 kB] [Connecting to archive.ubuntu.com (91.189.88.142)\r                                                                               \rHit:5 https://developer.download.nvidia.com/compute/cuda/repos/ubuntu1804/x86_64  Release\n",
            "\r0% [1 InRelease gpgv 64.4 kB] [Connecting to archive.ubuntu.com (91.189.88.142)\r                                                                               \rHit:6 http://security.ubuntu.com/ubuntu bionic-security InRelease\n",
            "\r0% [1 InRelease gpgv 64.4 kB] [Waiting for headers] [Waiting for headers] [Wait\r                                                                               \rHit:7 https://developer.download.nvidia.com/compute/machine-learning/repos/ubuntu1804/x86_64  Release\n",
            "\r                                                                               \r0% [1 InRelease gpgv 64.4 kB] [Waiting for headers] [Waiting for headers]\r                                                                         \r0% [Waiting for headers] [Waiting for headers]\r0% [2 InRelease gpgv 3,626 B] [Waiting for headers] [Waiting for headers]\r                                                                         \r0% [Waiting for headers] [Waiting for headers]\r0% [Release.gpg gpgv 564 B] [Waiting for headers] [Waiting for headers]\r                                                                       \rHit:8 http://ppa.launchpad.net/graphics-drivers/ppa/ubuntu bionic InRelease\n",
            "\r0% [Release.gpg gpgv 564 B] [Waiting for headers] [Connecting to ppa.launchpad.\r                                                                               \rHit:9 http://archive.ubuntu.com/ubuntu bionic InRelease\n",
            "\r0% [Release.gpg gpgv 564 B] [Waiting for headers] [Connecting to ppa.launchpad.\r                                                                               \r0% [Waiting for headers] [Connecting to ppa.launchpad.net (91.189.95.83)]\r0% [6 InRelease gpgv 88.7 kB] [Waiting for headers] [Connecting to ppa.launchpa\r                                                                               \rHit:11 http://archive.ubuntu.com/ubuntu bionic-updates InRelease\n",
            "\r                                                                               \r0% [6 InRelease gpgv 88.7 kB] [Waiting for headers] [Waiting for headers]\r                                                                         \r0% [Waiting for headers] [Waiting for headers]\r0% [Release.gpg gpgv 564 B] [Waiting for headers] [Waiting for headers]\r                                                                       \r0% [Waiting for headers] [Waiting for headers]\r0% [8 InRelease gpgv 21.3 kB] [Waiting for headers] [Waiting for headers]\r                                                                         \rHit:13 http://ppa.launchpad.net/marutter/c2d4u3.5/ubuntu bionic InRelease\n",
            "Hit:14 http://archive.ubuntu.com/ubuntu bionic-backports InRelease\n",
            "Reading package lists... Done\n"
          ],
          "name": "stdout"
        }
      ]
    },
    {
      "cell_type": "markdown",
      "metadata": {
        "id": "SqrBPbp1O2E7",
        "colab_type": "text"
      },
      "source": [
        "Ensuite, mettez à jour la base de données de paquets avec les paquets Docker du référentiel récemment ajouté :"
      ]
    },
    {
      "cell_type": "code",
      "metadata": {
        "id": "-6fE7YqgO8lF",
        "colab_type": "code",
        "outputId": "55bc5110-9f86-4106-d6c9-99a8c6f9315c",
        "colab": {
          "base_uri": "https://localhost:8080/",
          "height": 289
        }
      },
      "source": [
        "!sudo apt update"
      ],
      "execution_count": 0,
      "outputs": [
        {
          "output_type": "stream",
          "text": [
            "\u001b[33m\r0% [Working]\u001b[0m\r            \rHit:1 https://download.docker.com/linux/ubuntu bionic InRelease\n",
            "\u001b[33m\r0% [Connecting to archive.ubuntu.com (91.189.88.142)] [Connecting to security.u\u001b[0m\r                                                                               \rHit:2 https://cloud.r-project.org/bin/linux/ubuntu bionic-cran35/ InRelease\n",
            "\u001b[33m\r0% [Connecting to archive.ubuntu.com (91.189.88.142)] [Connecting to security.u\u001b[0m\u001b[33m\r0% [1 InRelease gpgv 64.4 kB] [Connecting to archive.ubuntu.com (91.189.88.142)\u001b[0m\r                                                                               \rIgn:3 https://developer.download.nvidia.com/compute/cuda/repos/ubuntu1804/x86_64  InRelease\n",
            "\u001b[33m\r0% [1 InRelease gpgv 64.4 kB] [Connecting to archive.ubuntu.com (91.189.88.142)\u001b[0m\r                                                                               \rIgn:4 https://developer.download.nvidia.com/compute/machine-learning/repos/ubuntu1804/x86_64  InRelease\n",
            "\u001b[33m\r0% [1 InRelease gpgv 64.4 kB] [Connecting to archive.ubuntu.com (91.189.88.142)\u001b[0m\r                                                                               \rHit:5 https://developer.download.nvidia.com/compute/cuda/repos/ubuntu1804/x86_64  Release\n",
            "\u001b[33m\r0% [1 InRelease gpgv 64.4 kB] [Connecting to archive.ubuntu.com (91.189.88.142)\u001b[0m\r                                                                               \rHit:6 http://security.ubuntu.com/ubuntu bionic-security InRelease\n",
            "\u001b[33m\r0% [1 InRelease gpgv 64.4 kB] [Connecting to archive.ubuntu.com (91.189.88.142)\u001b[0m\r                                                                               \rHit:7 https://developer.download.nvidia.com/compute/machine-learning/repos/ubuntu1804/x86_64  Release\n",
            "\u001b[33m\r                                                                               \r0% [1 InRelease gpgv 64.4 kB] [Waiting for headers] [Waiting for headers]\u001b[0m\u001b[33m\r                                                                         \r0% [Waiting for headers] [Waiting for headers]\u001b[0m\u001b[33m\r0% [2 InRelease gpgv 3,626 B] [Waiting for headers] [Waiting for headers]\u001b[0m\u001b[33m\r                                                                         \r0% [Waiting for headers] [Waiting for headers]\u001b[0m\u001b[33m\r0% [Release.gpg gpgv 564 B] [Waiting for headers] [Waiting for headers]\u001b[0m\r                                                                       \rHit:8 http://ppa.launchpad.net/graphics-drivers/ppa/ubuntu bionic InRelease\n",
            "\u001b[33m\r0% [Release.gpg gpgv 564 B] [Waiting for headers] [Connecting to ppa.launchpad.\u001b[0m\r                                                                               \rHit:9 http://archive.ubuntu.com/ubuntu bionic InRelease\n",
            "\u001b[33m\r0% [Release.gpg gpgv 564 B] [Waiting for headers] [Connecting to ppa.launchpad.\u001b[0m\u001b[33m\r                                                                               \r0% [Waiting for headers] [Connecting to ppa.launchpad.net (91.189.95.83)]\u001b[0m\u001b[33m\r0% [6 InRelease gpgv 88.7 kB] [Waiting for headers] [Connecting to ppa.launchpa\u001b[0m\u001b[33m\r                                                                               \r0% [Waiting for headers] [Connecting to ppa.launchpad.net (91.189.95.83)]\u001b[0m\u001b[33m\r0% [Release.gpg gpgv 564 B] [Waiting for headers] [Connecting to ppa.launchpad.\u001b[0m\r                                                                               \rHit:11 http://archive.ubuntu.com/ubuntu bionic-updates InRelease\n",
            "\u001b[33m\r                                                                               \r0% [Release.gpg gpgv 564 B] [Waiting for headers] [Waiting for headers]\u001b[0m\u001b[33m\r                                                                       \r0% [Waiting for headers] [Waiting for headers]\u001b[0m\u001b[33m\r0% [8 InRelease gpgv 21.3 kB] [Waiting for headers] [Waiting for headers]\u001b[0m\r                                                                         \rHit:13 http://ppa.launchpad.net/marutter/c2d4u3.5/ubuntu bionic InRelease\n",
            "Hit:14 http://archive.ubuntu.com/ubuntu bionic-backports InRelease\n",
            "Reading package lists... Done\n",
            "Building dependency tree       \n",
            "Reading state information... Done\n",
            "56 packages can be upgraded. Run 'apt list --upgradable' to see them.\n"
          ],
          "name": "stdout"
        }
      ]
    },
    {
      "cell_type": "markdown",
      "metadata": {
        "id": "QwuCLWWPPD7P",
        "colab_type": "text"
      },
      "source": [
        "Assurez-vous que vous êtes sur le point d'installer à partir du référentiel Docker au lieu du référentiel par défaut Ubuntu :"
      ]
    },
    {
      "cell_type": "code",
      "metadata": {
        "id": "iXcqnSghPGRO",
        "colab_type": "code",
        "outputId": "f810d850-78fe-486d-a348-2b540fcd2696",
        "colab": {
          "base_uri": "https://localhost:8080/",
          "height": 918
        }
      },
      "source": [
        "!apt-cache policy docker-ce"
      ],
      "execution_count": 0,
      "outputs": [
        {
          "output_type": "stream",
          "text": [
            "docker-ce:\n",
            "  Installed: 5:19.03.8~3-0~ubuntu-bionic\n",
            "  Candidate: 5:19.03.8~3-0~ubuntu-bionic\n",
            "  Version table:\n",
            " *** 5:19.03.8~3-0~ubuntu-bionic 500\n",
            "        500 https://download.docker.com/linux/ubuntu bionic/stable amd64 Packages\n",
            "        100 /var/lib/dpkg/status\n",
            "     5:19.03.7~3-0~ubuntu-bionic 500\n",
            "        500 https://download.docker.com/linux/ubuntu bionic/stable amd64 Packages\n",
            "     5:19.03.6~3-0~ubuntu-bionic 500\n",
            "        500 https://download.docker.com/linux/ubuntu bionic/stable amd64 Packages\n",
            "     5:19.03.5~3-0~ubuntu-bionic 500\n",
            "        500 https://download.docker.com/linux/ubuntu bionic/stable amd64 Packages\n",
            "     5:19.03.4~3-0~ubuntu-bionic 500\n",
            "        500 https://download.docker.com/linux/ubuntu bionic/stable amd64 Packages\n",
            "     5:19.03.3~3-0~ubuntu-bionic 500\n",
            "        500 https://download.docker.com/linux/ubuntu bionic/stable amd64 Packages\n",
            "     5:19.03.2~3-0~ubuntu-bionic 500\n",
            "        500 https://download.docker.com/linux/ubuntu bionic/stable amd64 Packages\n",
            "     5:19.03.1~3-0~ubuntu-bionic 500\n",
            "        500 https://download.docker.com/linux/ubuntu bionic/stable amd64 Packages\n",
            "     5:19.03.0~3-0~ubuntu-bionic 500\n",
            "        500 https://download.docker.com/linux/ubuntu bionic/stable amd64 Packages\n",
            "     5:18.09.9~3-0~ubuntu-bionic 500\n",
            "        500 https://download.docker.com/linux/ubuntu bionic/stable amd64 Packages\n",
            "     5:18.09.8~3-0~ubuntu-bionic 500\n",
            "        500 https://download.docker.com/linux/ubuntu bionic/stable amd64 Packages\n",
            "     5:18.09.7~3-0~ubuntu-bionic 500\n",
            "        500 https://download.docker.com/linux/ubuntu bionic/stable amd64 Packages\n",
            "     5:18.09.6~3-0~ubuntu-bionic 500\n",
            "        500 https://download.docker.com/linux/ubuntu bionic/stable amd64 Packages\n",
            "     5:18.09.5~3-0~ubuntu-bionic 500\n",
            "        500 https://download.docker.com/linux/ubuntu bionic/stable amd64 Packages\n",
            "     5:18.09.4~3-0~ubuntu-bionic 500\n",
            "        500 https://download.docker.com/linux/ubuntu bionic/stable amd64 Packages\n",
            "     5:18.09.3~3-0~ubuntu-bionic 500\n",
            "        500 https://download.docker.com/linux/ubuntu bionic/stable amd64 Packages\n",
            "     5:18.09.2~3-0~ubuntu-bionic 500\n",
            "        500 https://download.docker.com/linux/ubuntu bionic/stable amd64 Packages\n",
            "     5:18.09.1~3-0~ubuntu-bionic 500\n",
            "        500 https://download.docker.com/linux/ubuntu bionic/stable amd64 Packages\n",
            "     5:18.09.0~3-0~ubuntu-bionic 500\n",
            "        500 https://download.docker.com/linux/ubuntu bionic/stable amd64 Packages\n",
            "     18.06.3~ce~3-0~ubuntu 500\n",
            "        500 https://download.docker.com/linux/ubuntu bionic/stable amd64 Packages\n",
            "     18.06.2~ce~3-0~ubuntu 500\n",
            "        500 https://download.docker.com/linux/ubuntu bionic/stable amd64 Packages\n",
            "     18.06.1~ce~3-0~ubuntu 500\n",
            "        500 https://download.docker.com/linux/ubuntu bionic/stable amd64 Packages\n",
            "     18.06.0~ce~3-0~ubuntu 500\n",
            "        500 https://download.docker.com/linux/ubuntu bionic/stable amd64 Packages\n",
            "     18.03.1~ce~3-0~ubuntu 500\n",
            "        500 https://download.docker.com/linux/ubuntu bionic/stable amd64 Packages\n"
          ],
          "name": "stdout"
        }
      ]
    },
    {
      "cell_type": "markdown",
      "metadata": {
        "id": "D7cjFR3uPO4i",
        "colab_type": "text"
      },
      "source": [
        "Vous verrez une sortie de données comme celle-ci, même si le numéro de version de Docker peut être différent:\n",
        "\n",
        "Output of apt-cache policy docker-ce\n",
        "\n",
        "docker-ce:\n",
        " Installed: (none)\n",
        " Candidate: 18.03.1 ce 3-0 ubuntu\n",
        " Version table:\n",
        "     18.03.1 ce 3-0 ubuntu 500\n",
        "        500 https://download.docker.com/linux/ubuntu bionic/stable amd64 Packages\n",
        "\n",
        "\n",
        "Notez que docker-ce n'est pas installé, mais que le candidat à l'installation provient du référentiel Docker pour Ubuntu 18.04 (bionic)."
      ]
    },
    {
      "cell_type": "markdown",
      "metadata": {
        "id": "YRWD-2Q3PQ4w",
        "colab_type": "text"
      },
      "source": [
        "Finalement, installez Docker :"
      ]
    },
    {
      "cell_type": "code",
      "metadata": {
        "id": "OZcvHDOyP8PF",
        "colab_type": "code",
        "outputId": "540d9094-4c9f-4a78-80ea-ea903a500515",
        "colab": {
          "base_uri": "https://localhost:8080/",
          "height": 102
        }
      },
      "source": [
        "!sudo apt install docker-ce"
      ],
      "execution_count": 0,
      "outputs": [
        {
          "output_type": "stream",
          "text": [
            "Reading package lists... Done\n",
            "Building dependency tree       \n",
            "Reading state information... Done\n",
            "docker-ce is already the newest version (5:19.03.8~3-0~ubuntu-bionic).\n",
            "0 upgraded, 0 newly installed, 0 to remove and 56 not upgraded.\n"
          ],
          "name": "stdout"
        }
      ]
    },
    {
      "cell_type": "markdown",
      "metadata": {
        "id": "69l2G5FyQEIi",
        "colab_type": "text"
      },
      "source": [
        "Docker devrait maintenant être installé, il faut le lancer : "
      ]
    },
    {
      "cell_type": "code",
      "metadata": {
        "id": "3zEtfD4XQF0O",
        "colab_type": "code",
        "outputId": "ec2cf8f0-4fab-4556-91d0-262fd63dcaf4",
        "colab": {
          "base_uri": "https://localhost:8080/",
          "height": 102
        }
      },
      "source": [
        "# !sudo systemctl status docker\n",
        "# !sudo systemctl start docker\n",
        "!sudo service docker start\n",
        "!sudo systemctl enable docker\n",
        "!sudo systemctl status docker"
      ],
      "execution_count": 0,
      "outputs": [
        {
          "output_type": "stream",
          "text": [
            " * Starting Docker: docker\n",
            "   ...done.\n",
            "Synchronizing state of docker.service with SysV service script with /lib/systemd/systemd-sysv-install.\n",
            "Executing: /lib/systemd/systemd-sysv-install enable docker\n",
            "System has not been booted with systemd as init system (PID 1). Can't operate.\n"
          ],
          "name": "stdout"
        }
      ]
    },
    {
      "cell_type": "markdown",
      "metadata": {
        "id": "bKvF1dgcTzUP",
        "colab_type": "text"
      },
      "source": [
        "Vérification que docker est lancé :"
      ]
    },
    {
      "cell_type": "code",
      "metadata": {
        "id": "SEeOWkNqT8St",
        "colab_type": "code",
        "outputId": "76b5e697-e88a-44bd-b2bc-f4faddcb42e1",
        "colab": {
          "base_uri": "https://localhost:8080/",
          "height": 34
        }
      },
      "source": [
        "!sudo service docker status"
      ],
      "execution_count": 0,
      "outputs": [
        {
          "output_type": "stream",
          "text": [
            " * Docker is not running\n"
          ],
          "name": "stdout"
        }
      ]
    },
    {
      "cell_type": "markdown",
      "metadata": {
        "id": "N7xJmqbvQ7Bw",
        "colab_type": "text"
      },
      "source": [
        "Utiliser docker consiste à lui transmettre une chaîne d'options et de commandes suivie d'arguments. La syntaxe prend cette forme:\n",
        "\n",
        "docker [option] [command] [arguments]"
      ]
    },
    {
      "cell_type": "code",
      "metadata": {
        "id": "dFHYn1TfQzYh",
        "colab_type": "code",
        "outputId": "d9c5e5fa-e0c7-4cf9-db8f-5ee7af960046",
        "colab": {
          "base_uri": "https://localhost:8080/",
          "height": 1000
        }
      },
      "source": [
        "!docker"
      ],
      "execution_count": 0,
      "outputs": [
        {
          "output_type": "stream",
          "text": [
            "\n",
            "Usage:\tdocker [OPTIONS] COMMAND\n",
            "\n",
            "A self-sufficient runtime for containers\n",
            "\n",
            "Options:\n",
            "      --config string      Location of client config files (default \"/root/.docker\")\n",
            "  -c, --context string     Name of the context to use to connect to the daemon (overrides DOCKER_HOST env var and default context set with \"docker context use\")\n",
            "  -D, --debug              Enable debug mode\n",
            "  -H, --host list          Daemon socket(s) to connect to\n",
            "  -l, --log-level string   Set the logging level (\"debug\"|\"info\"|\"warn\"|\"error\"|\"fatal\") (default \"info\")\n",
            "      --tls                Use TLS; implied by --tlsverify\n",
            "      --tlscacert string   Trust certs signed only by this CA (default \"/root/.docker/ca.pem\")\n",
            "      --tlscert string     Path to TLS certificate file (default \"/root/.docker/cert.pem\")\n",
            "      --tlskey string      Path to TLS key file (default \"/root/.docker/key.pem\")\n",
            "      --tlsverify          Use TLS and verify the remote\n",
            "  -v, --version            Print version information and quit\n",
            "\n",
            "Management Commands:\n",
            "  builder     Manage builds\n",
            "  config      Manage Docker configs\n",
            "  container   Manage containers\n",
            "  context     Manage contexts\n",
            "  engine      Manage the docker engine\n",
            "  image       Manage images\n",
            "  network     Manage networks\n",
            "  node        Manage Swarm nodes\n",
            "  plugin      Manage plugins\n",
            "  secret      Manage Docker secrets\n",
            "  service     Manage services\n",
            "  stack       Manage Docker stacks\n",
            "  swarm       Manage Swarm\n",
            "  system      Manage Docker\n",
            "  trust       Manage trust on Docker images\n",
            "  volume      Manage volumes\n",
            "\n",
            "Commands:\n",
            "  attach      Attach local standard input, output, and error streams to a running container\n",
            "  build       Build an image from a Dockerfile\n",
            "  commit      Create a new image from a container's changes\n",
            "  cp          Copy files/folders between a container and the local filesystem\n",
            "  create      Create a new container\n",
            "  deploy      Deploy a new stack or update an existing stack\n",
            "  diff        Inspect changes to files or directories on a container's filesystem\n",
            "  events      Get real time events from the server\n",
            "  exec        Run a command in a running container\n",
            "  export      Export a container's filesystem as a tar archive\n",
            "  history     Show the history of an image\n",
            "  images      List images\n",
            "  import      Import the contents from a tarball to create a filesystem image\n",
            "  info        Display system-wide information\n",
            "  inspect     Return low-level information on Docker objects\n",
            "  kill        Kill one or more running containers\n",
            "  load        Load an image from a tar archive or STDIN\n",
            "  login       Log in to a Docker registry\n",
            "  logout      Log out from a Docker registry\n",
            "  logs        Fetch the logs of a container\n",
            "  pause       Pause all processes within one or more containers\n",
            "  port        List port mappings or a specific mapping for the container\n",
            "  ps          List containers\n",
            "  pull        Pull an image or a repository from a registry\n",
            "  push        Push an image or a repository to a registry\n",
            "  rename      Rename a container\n",
            "  restart     Restart one or more containers\n",
            "  rm          Remove one or more containers\n",
            "  rmi         Remove one or more images\n",
            "  run         Run a command in a new container\n",
            "  save        Save one or more images to a tar archive (streamed to STDOUT by default)\n",
            "  search      Search the Docker Hub for images\n",
            "  start       Start one or more stopped containers\n",
            "  stats       Display a live stream of container(s) resource usage statistics\n",
            "  stop        Stop one or more running containers\n",
            "  tag         Create a tag TARGET_IMAGE that refers to SOURCE_IMAGE\n",
            "  top         Display the running processes of a container\n",
            "  unpause     Unpause all processes within one or more containers\n",
            "  update      Update configuration of one or more containers\n",
            "  version     Show the Docker version information\n",
            "  wait        Block until one or more containers stop, then print their exit codes\n",
            "\n",
            "Run 'docker COMMAND --help' for more information on a command.\n"
          ],
          "name": "stdout"
        }
      ]
    },
    {
      "cell_type": "markdown",
      "metadata": {
        "id": "Fc0Ere59RWqZ",
        "colab_type": "text"
      },
      "source": [
        "Pour afficher les options disponibles pour une commande spécifique, tapez :"
      ]
    },
    {
      "cell_type": "code",
      "metadata": {
        "id": "9EmbDOf_RQFg",
        "colab_type": "code",
        "outputId": "d2b52912-528d-4dc5-c72a-93a632a21ef7",
        "colab": {
          "base_uri": "https://localhost:8080/",
          "height": 1000
        }
      },
      "source": [
        "!docker docker-subcommand --help"
      ],
      "execution_count": 0,
      "outputs": [
        {
          "output_type": "stream",
          "text": [
            "\n",
            "Usage:\tdocker [OPTIONS] COMMAND\n",
            "\n",
            "A self-sufficient runtime for containers\n",
            "\n",
            "Options:\n",
            "      --config string      Location of client config files (default \"/root/.docker\")\n",
            "  -c, --context string     Name of the context to use to connect to the daemon (overrides DOCKER_HOST env var and default context set with \"docker context use\")\n",
            "  -D, --debug              Enable debug mode\n",
            "  -H, --host list          Daemon socket(s) to connect to\n",
            "  -l, --log-level string   Set the logging level (\"debug\"|\"info\"|\"warn\"|\"error\"|\"fatal\") (default \"info\")\n",
            "      --tls                Use TLS; implied by --tlsverify\n",
            "      --tlscacert string   Trust certs signed only by this CA (default \"/root/.docker/ca.pem\")\n",
            "      --tlscert string     Path to TLS certificate file (default \"/root/.docker/cert.pem\")\n",
            "      --tlskey string      Path to TLS key file (default \"/root/.docker/key.pem\")\n",
            "      --tlsverify          Use TLS and verify the remote\n",
            "  -v, --version            Print version information and quit\n",
            "\n",
            "Management Commands:\n",
            "  builder     Manage builds\n",
            "  config      Manage Docker configs\n",
            "  container   Manage containers\n",
            "  context     Manage contexts\n",
            "  engine      Manage the docker engine\n",
            "  image       Manage images\n",
            "  network     Manage networks\n",
            "  node        Manage Swarm nodes\n",
            "  plugin      Manage plugins\n",
            "  secret      Manage Docker secrets\n",
            "  service     Manage services\n",
            "  stack       Manage Docker stacks\n",
            "  swarm       Manage Swarm\n",
            "  system      Manage Docker\n",
            "  trust       Manage trust on Docker images\n",
            "  volume      Manage volumes\n",
            "\n",
            "Commands:\n",
            "  attach      Attach local standard input, output, and error streams to a running container\n",
            "  build       Build an image from a Dockerfile\n",
            "  commit      Create a new image from a container's changes\n",
            "  cp          Copy files/folders between a container and the local filesystem\n",
            "  create      Create a new container\n",
            "  deploy      Deploy a new stack or update an existing stack\n",
            "  diff        Inspect changes to files or directories on a container's filesystem\n",
            "  events      Get real time events from the server\n",
            "  exec        Run a command in a running container\n",
            "  export      Export a container's filesystem as a tar archive\n",
            "  history     Show the history of an image\n",
            "  images      List images\n",
            "  import      Import the contents from a tarball to create a filesystem image\n",
            "  info        Display system-wide information\n",
            "  inspect     Return low-level information on Docker objects\n",
            "  kill        Kill one or more running containers\n",
            "  load        Load an image from a tar archive or STDIN\n",
            "  login       Log in to a Docker registry\n",
            "  logout      Log out from a Docker registry\n",
            "  logs        Fetch the logs of a container\n",
            "  pause       Pause all processes within one or more containers\n",
            "  port        List port mappings or a specific mapping for the container\n",
            "  ps          List containers\n",
            "  pull        Pull an image or a repository from a registry\n",
            "  push        Push an image or a repository to a registry\n",
            "  rename      Rename a container\n",
            "  restart     Restart one or more containers\n",
            "  rm          Remove one or more containers\n",
            "  rmi         Remove one or more images\n",
            "  run         Run a command in a new container\n",
            "  save        Save one or more images to a tar archive (streamed to STDOUT by default)\n",
            "  search      Search the Docker Hub for images\n",
            "  start       Start one or more stopped containers\n",
            "  stats       Display a live stream of container(s) resource usage statistics\n",
            "  stop        Stop one or more running containers\n",
            "  tag         Create a tag TARGET_IMAGE that refers to SOURCE_IMAGE\n",
            "  top         Display the running processes of a container\n",
            "  unpause     Unpause all processes within one or more containers\n",
            "  update      Update configuration of one or more containers\n",
            "  version     Show the Docker version information\n",
            "  wait        Block until one or more containers stop, then print their exit codes\n",
            "\n",
            "Run 'docker COMMAND --help' for more information on a command.\n"
          ],
          "name": "stdout"
        }
      ]
    },
    {
      "cell_type": "markdown",
      "metadata": {
        "id": "ol8d6T9ISSCv",
        "colab_type": "text"
      },
      "source": [
        "Pour afficher des informations sur Docker à l’échelle du système, utilisez :"
      ]
    },
    {
      "cell_type": "code",
      "metadata": {
        "id": "KjvxEN1JSWMn",
        "colab_type": "code",
        "outputId": "56bac1d2-5266-420d-9347-907215f66c5d",
        "colab": {
          "base_uri": "https://localhost:8080/",
          "height": 119
        }
      },
      "source": [
        "!sudo docker info"
      ],
      "execution_count": 0,
      "outputs": [
        {
          "output_type": "stream",
          "text": [
            "Client:\n",
            " Debug Mode: false\n",
            "\n",
            "Server:\n",
            "ERROR: Cannot connect to the Docker daemon at unix:///var/run/docker.sock. Is the docker daemon running?\n",
            "errors pretty printing info\n"
          ],
          "name": "stdout"
        }
      ]
    },
    {
      "cell_type": "markdown",
      "metadata": {
        "id": "K2aGC1DpR_Ot",
        "colab_type": "text"
      },
      "source": [
        "Utilisation des images Docker\n",
        "Les conteneurs Docker sont construits à partir d'images Docker. Par défaut, Docker extrait ces images de Docker Hub, un registre Docker géré par Docker, la société à l'origine du projet Docker. Tout le monde peut héberger ses images Docker sur Docker Hub. Ainsi, la plupart des applications et des distributions Linux dont vous aurez besoin auront des images hébergées ici.\n",
        "\n",
        "Pour vérifier si vous pouvez accéder aux images et les télécharger à partir de Docker Hub, tapez :"
      ]
    },
    {
      "cell_type": "code",
      "metadata": {
        "id": "LTg_rH4DSHga",
        "colab_type": "code",
        "outputId": "16d77e68-12be-4d3e-fdc8-22407767c65b",
        "colab": {
          "base_uri": "https://localhost:8080/",
          "height": 748
        }
      },
      "source": [
        "# !su -l root\n",
        "!sudo docker run hello-world\n",
        "\n",
        "# Exemple : \n",
        "# !sudo docker run -it -p 8888:8888 gcr.io/tensorflow/tensorflow"
      ],
      "execution_count": 0,
      "outputs": [
        {
          "output_type": "stream",
          "text": [
            "-su: cannot set terminal process group (4076): Inappropriate ioctl for device\n",
            "-su: no job control in this shell\n",
            "\u001b]0;root@43a3ecb2e436: ~\u0007\u001b[01;32mroot@43a3ecb2e436\u001b[00m:\u001b[01;34m~\u001b[00m# \n",
            "\u001b]0;root@43a3ecb2e436: ~\u0007\u001b[01;32mroot@43a3ecb2e436\u001b[00m:\u001b[01;34m~\u001b[00m# ls\n",
            "\u001b]0;root@43a3ecb2e436: ~\u0007\u001b[01;32mroot@43a3ecb2e436\u001b[00m:\u001b[01;34m~\u001b[00m# ls /\n",
            "\u001b[0m\u001b[01;34mbin\u001b[0m                                        \u001b[01;34metc\u001b[0m    \u001b[01;34mopt\u001b[0m    \u001b[01;34msys\u001b[0m\n",
            "\u001b[01;34mboot\u001b[0m                                       \u001b[01;34mhome\u001b[0m   \u001b[01;34mproc\u001b[0m   \u001b[01;34mtensorflow-1.15.2\u001b[0m\n",
            "\u001b[01;34mcontent\u001b[0m                                    \u001b[01;34mlib\u001b[0m    \u001b[01;34mroot\u001b[0m   \u001b[30;42mtmp\u001b[0m\n",
            "\u001b[01;34mdatalab\u001b[0m                                    \u001b[01;34mlib32\u001b[0m  \u001b[01;34mrun\u001b[0m    \u001b[01;34mtools\u001b[0m\n",
            "\u001b[01;34mdev\u001b[0m                                        \u001b[01;34mlib64\u001b[0m  \u001b[01;34msbin\u001b[0m   \u001b[01;34musr\u001b[0m\n",
            "dlib-19.18.0-cp27-cp27mu-linux_x86_64.whl  \u001b[01;34mmedia\u001b[0m  \u001b[01;34msrv\u001b[0m    \u001b[01;34mvar\u001b[0m\n",
            "dlib-19.18.0-cp36-cp36m-linux_x86_64.whl   \u001b[01;34mmnt\u001b[0m    \u001b[01;34mswift\u001b[0m\n",
            "\u001b]0;root@43a3ecb2e436: ~\u0007\u001b[01;32mroot@43a3ecb2e436\u001b[00m:\u001b[01;34m~\u001b[00m# sudo systemctl status docker\n",
            "System has not been booted with systemd as init system (PID 1). Can't operate.\n",
            "\u001b]0;root@43a3ecb2e436: ~\u0007\u001b[01;32mroot@43a3ecb2e436\u001b[00m:\u001b[01;34m~\u001b[00m# \n",
            "\u001b]0;root@43a3ecb2e436: ~\u0007\u001b[01;32mroot@43a3ecb2e436\u001b[00m:\u001b[01;34m~\u001b[00m# systemctl status docker\n",
            "System has not been booted with systemd as init system (PID 1). Can't operate.\n",
            "\u001b]0;root@43a3ecb2e436: ~\u0007\u001b[01;32mroot@43a3ecb2e436\u001b[00m:\u001b[01;34m~\u001b[00m# service docker start\n",
            " * Starting Docker: docker\n",
            "   ...done.\n",
            "\u001b]0;root@43a3ecb2e436: ~\u0007\u001b[01;32mroot@43a3ecb2e436\u001b[00m:\u001b[01;34m~\u001b[00m# service docker status\n",
            " * Docker is not running\n",
            "\u001b]0;root@43a3ecb2e436: ~\u0007\u001b[01;32mroot@43a3ecb2e436\u001b[00m:\u001b[01;34m~\u001b[00m# ifconfig\n",
            "-su: ifconfig: command not found\n",
            "\u001b]0;root@43a3ecb2e436: ~\u0007\u001b[01;32mroot@43a3ecb2e436\u001b[00m:\u001b[01;34m~\u001b[00m# su - root\n",
            "-su: cannot set terminal process group (4076): Inappropriate ioctl for device\n",
            "-su: no job control in this shell\n",
            "\u001b]0;root@43a3ecb2e436: ~\u0007\u001b[01;32mroot@43a3ecb2e436\u001b[00m:\u001b[01;34m~\u001b[00m# bash\n",
            "bash: cannot set terminal process group (4076): Inappropriate ioctl for device\n",
            "bash: no job control in this shell\n",
            "\u001b]0;root@43a3ecb2e436: ~\u0007\u001b[01;32mroot@43a3ecb2e436\u001b[00m:\u001b[01;34m~\u001b[00m# exit\n",
            "exit\n",
            "\u001b]0;root@43a3ecb2e436: ~\u0007\u001b[01;32mroot@43a3ecb2e436\u001b[00m:\u001b[01;34m~\u001b[00m# exit\n",
            "logout\n",
            "\u001b]0;root@43a3ecb2e436: ~\u0007\u001b[01;32mroot@43a3ecb2e436\u001b[00m:\u001b[01;34m~\u001b[00m# ls\n",
            "\u001b]0;root@43a3ecb2e436: ~\u0007\u001b[01;32mroot@43a3ecb2e436\u001b[00m:\u001b[01;34m~\u001b[00m# ifconifg\n",
            "-su: ifconifg: command not found\n",
            "\u001b]0;root@43a3ecb2e436: ~\u0007\u001b[01;32mroot@43a3ecb2e436\u001b[00m:\u001b[01;34m~\u001b[00m# ifconfig\n",
            "-su: ifconfig: command not found\n",
            "\u001b]0;root@43a3ecb2e436: ~\u0007\u001b[01;32mroot@43a3ecb2e436\u001b[00m:\u001b[01;34m~\u001b[00m# exit\n",
            "logout\n",
            "docker: Cannot connect to the Docker daemon at unix:///var/run/docker.sock. Is the docker daemon running?.\n",
            "See 'docker run --help'.\n"
          ],
          "name": "stdout"
        }
      ]
    },
    {
      "cell_type": "code",
      "metadata": {
        "id": "k-qp7uceSnlI",
        "colab_type": "code",
        "outputId": "6cc02fe5-20f2-4a8c-a957-c919f8e2c266",
        "colab": {
          "base_uri": "https://localhost:8080/",
          "height": 34
        }
      },
      "source": [
        "!sudo docker search ubuntu"
      ],
      "execution_count": 0,
      "outputs": [
        {
          "output_type": "stream",
          "text": [
            "Cannot connect to the Docker daemon at unix:///var/run/docker.sock. Is the docker daemon running?\n"
          ],
          "name": "stdout"
        }
      ]
    },
    {
      "cell_type": "code",
      "metadata": {
        "id": "NFW2ubgTa0Ob",
        "colab_type": "code",
        "outputId": "0f758727-b2c8-4fdc-ac23-ded748985dfa",
        "colab": {
          "base_uri": "https://localhost:8080/",
          "height": 51
        }
      },
      "source": [
        "!docker run --rm -it -p 8888:8888 prakashdbhagat/docker-google-colab"
      ],
      "execution_count": 0,
      "outputs": [
        {
          "output_type": "stream",
          "text": [
            "docker: Cannot connect to the Docker daemon at unix:///var/run/docker.sock. Is the docker daemon running?.\n",
            "See 'docker run --help'.\n"
          ],
          "name": "stdout"
        }
      ]
    }
  ]
}