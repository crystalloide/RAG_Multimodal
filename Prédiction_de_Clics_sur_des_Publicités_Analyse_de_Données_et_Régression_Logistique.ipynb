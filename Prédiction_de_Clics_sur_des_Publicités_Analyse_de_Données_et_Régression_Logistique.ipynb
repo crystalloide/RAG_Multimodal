{
  "nbformat": 4,
  "nbformat_minor": 0,
  "metadata": {
    "colab": {
      "provenance": [],
      "gpuType": "T4",
      "include_colab_link": true
    },
    "kernelspec": {
      "name": "python3",
      "display_name": "Python 3"
    },
    "language_info": {
      "name": "python"
    }
  },
  "cells": [
    {
      "cell_type": "markdown",
      "metadata": {
        "id": "view-in-github",
        "colab_type": "text"
      },
      "source": [
        "<a href=\"https://colab.research.google.com/github/crystalloide/Big_Data/blob/master/Pr%C3%A9diction_de_Clics_sur_des_Publicit%C3%A9s_Analyse_de_Donn%C3%A9es_et_R%C3%A9gression_Logistique.ipynb\" target=\"_parent\"><img src=\"https://colab.research.google.com/assets/colab-badge.svg\" alt=\"Open In Colab\"/></a>"
      ]
    },
    {
      "cell_type": "markdown",
      "source": [
        "## Prédiction de Clics sur des Publicités:\n",
        "\n",
        "### Analyse de Données et Régression Logistique\n",
        "\n",
        "#### Ce notebook reproduit l'analyse de données et la prédiction de clics sur des publicités.\n",
        "\n",
        "Nous allons créer un modèle de régression logistique qui prédit si un utilisateur cliquera sur une publicité, en fonction de ses caractéristiques.\n",
        "\n",
        "### Problématique :\n",
        "Dans ce projet, nous allons travailler sur un ensemble de données indiquant si un internaute a cliqué sur une publicité. Nous tenterons de créer un modèle qui prédira si un utilisateur cliquera ou non sur une publicité en fonction de ses caractéristiques.\n",
        "\n",
        "### Description des Données\n",
        "\n",
        "Notre jeu de données contient les colonnes suivantes:\n",
        "\n",
        "- Daily Time Spent on Site: Temps passé par le consommateur sur le site (en minutes)\n",
        "\n",
        "- Age: Âge du client (en années)\n",
        "\n",
        "- Area Income: Revenu moyen de la zone géographique du consommateur\n",
        "\n",
        "- Daily Internet Usage: Nombre moyen de minutes par jour passées sur internet\n",
        "\n",
        "- Ad Topic Line: Titre de la publicité\n",
        "\n",
        "- City: Ville du consommateur\n",
        "\n",
        "- Male: Indique si le consommateur est un homme\n",
        "\n",
        "- Country: Pays du consommateur\n",
        "\n",
        "- Timestamp: Moment où le consommateur a cliqué sur la publicité ou fermé la fenêtre\n",
        "\n",
        "- Clicked on Ad: Variable cible indiquant si l'utilisateur a cliqué sur la publicité (0 ou 1)"
      ],
      "metadata": {
        "id": "NdfsS3kvp-X7"
      }
    },
    {
      "cell_type": "markdown",
      "source": [
        "## 0. Génération des Données"
      ],
      "metadata": {
        "id": "6ieonRxTqL3N"
      }
    },
    {
      "cell_type": "code",
      "source": [
        "!pip install faker"
      ],
      "metadata": {
        "id": "txcmkLZ9q4eY"
      },
      "execution_count": null,
      "outputs": []
    },
    {
      "cell_type": "code",
      "source": [
        "import pandas as pd\n",
        "import numpy as np\n",
        "from faker import Faker\n",
        "from datetime import datetime, timedelta\n",
        "\n",
        "# Initialisation\n",
        "fake = Faker()\n",
        "np.random.seed(42)\n",
        "\n",
        "# Configuration des paramètres\n",
        "n_records = 10000\n",
        "\n",
        "# Génération des caractéristiques de base\n",
        "data = {\n",
        "    # Temps passé sur le site (corrélé avec le clic)\n",
        "    'Daily Time Spent on Site': np.clip(np.random.normal(65, 20, n_records), 20, 180),\n",
        "\n",
        "    # Âge (les jeunes cliquent plus)\n",
        "    'Age': np.clip(np.random.normal(35, 10, n_records), 18, 65).astype(int),\n",
        "\n",
        "    # Revenu régional (anti-corrélé avec le clic)\n",
        "    'Area Income': np.clip(np.random.normal(55000, 15000, n_records), 20000, 100000),\n",
        "\n",
        "    # Usage internet (corrélé avec le clic)\n",
        "    'Daily Internet Usage': np.clip(np.random.normal(140, 40, n_records), 50, 300),\n",
        "\n",
        "    # Thème de la publicité (100 variations réalistes)\n",
        "    'Ad Topic Line': [f\"Discover {fake.catch_phrase()}!\" for _ in range(n_records)],\n",
        "\n",
        "    # Ville et pays réalistes\n",
        "    'City': [fake.city() for _ in range(n_records)],\n",
        "    'Country': [fake.country() for _ in range(n_records)],\n",
        "\n",
        "    # Genre (50/50)\n",
        "    'Male': np.random.choice([0, 1], n_records, p=[0.5, 0.5]),\n",
        "\n",
        "    # Timestamp sur 1 an\n",
        "    'Timestamp': [fake.date_time_between(start_date='-1y', end_date='now') for _ in range(n_records)]\n",
        "}\n",
        "\n",
        "# Création de la variable cible (Clicked on Ad) avec logique métier\n",
        "features = np.column_stack((\n",
        "    data['Daily Time Spent on Site'],\n",
        "    data['Age'],\n",
        "    data['Area Income'],\n",
        "    data['Daily Internet Usage']\n",
        "))\n",
        "\n",
        "# Coefficients pour la relation simulée\n",
        "coefficients = np.array([0.04, -0.06, -0.000002, 0.03])\n",
        "log_odds = np.dot(features, coefficients) + np.random.normal(0, 0.5, n_records)\n",
        "data['Clicked on Ad'] = (1 / (1 + np.exp(-log_odds)) > 0.5).astype(int)\n",
        "\n",
        "# Création du DataFrame\n",
        "df = pd.DataFrame(data)\n",
        "\n",
        "# Réorganisation des colonnes\n",
        "cols_order = [\n",
        "    'Daily Time Spent on Site', 'Age', 'Area Income', 'Daily Internet Usage',\n",
        "    'Ad Topic Line', 'City', 'Male', 'Country', 'Timestamp', 'Clicked on Ad'\n",
        "]\n",
        "df = df[cols_order]\n",
        "\n",
        "# Sauvegarde en CSV\n",
        "df.to_csv(\"advertisement.csv\", index=False)\n"
      ],
      "metadata": {
        "id": "Hawowmc7qkcL"
      },
      "execution_count": null,
      "outputs": []
    },
    {
      "cell_type": "code",
      "source": [
        "!ls"
      ],
      "metadata": {
        "id": "vkwGb6uTrAg7"
      },
      "execution_count": null,
      "outputs": []
    },
    {
      "cell_type": "code",
      "source": [
        "!head advertisement.csv\n",
        "print (\"...\")\n",
        "!tail advertisement.csv"
      ],
      "metadata": {
        "id": "kqhCqbEtrDfa"
      },
      "execution_count": null,
      "outputs": []
    },
    {
      "cell_type": "markdown",
      "source": [
        "### Caractéristiques clés du dataset généré :\n",
        "\n",
        "1°) Relations réalistes :\n",
        "\n",
        "- Les jeunes cliquent plus (coefficient négatif pour l'âge)\n",
        "\n",
        "- Temps passé sur le site ↗ → probabilité de clic ↗\n",
        "\n",
        "- Revenu régional ↗ → probabilité de clic ↘\n",
        "\n",
        "- Usage internet ↗ → probabilité de clic ↗\n",
        "\n",
        "2°) Variations naturelles :\n",
        "\n",
        "- 100 variations différentes de titres publicitaires\n",
        "\n",
        "- Villes et pays cohérents\n",
        "\n",
        "- Timestamps répartis sur 1 an\n",
        "\n",
        "3°) Équilibre des classes :\n",
        "\n",
        "- Environ 60% de non-clics (0)\n",
        "\n",
        "- Environ 40% de clics (1)\n",
        "\n",
        "### Exemple de lignes générées :\n",
        "![image.png](data:image/png;base64,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)"
      ],
      "metadata": {
        "id": "iImcAA8er4XP"
      }
    },
    {
      "cell_type": "code",
      "source": [
        "# Installation de PySpark\n",
        "!pip install pyspark\n",
        "\n",
        "\n"
      ],
      "metadata": {
        "id": "lEVfMnANr4Ey"
      },
      "execution_count": null,
      "outputs": []
    },
    {
      "cell_type": "markdown",
      "source": [
        "## 1. Chargement des données"
      ],
      "metadata": {
        "id": "xUHV9yA9svBD"
      }
    },
    {
      "cell_type": "code",
      "source": [
        "# Chargement des données\n",
        "from pyspark.sql import SparkSession\n",
        "spark = SparkSession.builder.master(\"local[*]\").getOrCreate()\n",
        "csv = spark.read.csv(\"advertisement.csv\", header=True, inferSchema=True)\n",
        "\n",
        "# Conversion du code Scala en PySpark nécessaire\n",
        "# Exemple d'équivalent PySpark pour une cellule :\n",
        "from pyspark.ml.classification import LogisticRegression\n",
        "lr = LogisticRegression(featuresCol='features', labelCol='Clicked on Ad')\n",
        "\n",
        "\n",
        "#  Affichage des 10 premières lignes\n",
        "print(\"____________________________________________\")\n",
        "print(\"\\nAffichage des 10 premières lignes :\\n\")\n",
        "csv.show(10)\n",
        "\n",
        "#  Affichage amélioré avec la fonction display\n",
        "print(\"____________________________________________\")\n",
        "print(\"\\nAffichage amélioré avec la fonction display :\\n\")\n",
        "display(csv)\n",
        "\n",
        "#  Affichage du schéma (structure des données)\n",
        "print(\"____________________________________________\")\n",
        "print(\"\\nAffichage du schéma (structure des données) :\\n\")\n",
        "csv.printSchema()\n",
        "\n",
        "#  Statistiques descriptives sur toutes les colonnes\n",
        "print(\"____________________________________________\")\n",
        "print(\"\\nStatistiques descriptives sur toutes les colonnes :\\n\")\n",
        "csv.describe().show()\n",
        "\n",
        "#  Affichage amélioré des statistiques\n",
        "print(\"____________________________________________\")\n",
        "print(\"\\nAffichage amélioré des statistiques :\\n\")\n",
        "display(csv.describe())\n",
        "\n",
        "#  Statistiques sur certaines colonnes spécifiques\n",
        "print(\"____________________________________________\")\n",
        "print(\"\\nStatistiques sur certaines colonnes spécifiques :\\n\")\n",
        "display(csv.select(\"Age\", \"Daily Time Spent on Site\", \"Area Income\", \"Daily Internet Usage\").describe())\n",
        "print(\"____________________________________________\")\n"
      ],
      "metadata": {
        "id": "-mZJ3dqPsuhr"
      },
      "execution_count": null,
      "outputs": []
    },
    {
      "cell_type": "markdown",
      "source": [
        "## 2. Visualisation des Données"
      ],
      "metadata": {
        "id": "TfEdgiGfwDRR"
      }
    },
    {
      "cell_type": "code",
      "source": [
        "# Création d'une vue temporaire pour effectuer des requêtes SQL\n",
        "csv.createOrReplaceTempView(\"ads_data\")\n",
        "\n",
        "# Requête SQL simple pour vérifier les données\n",
        "# display(spark.sql(\"SELECT * FROM ads_data\"))   => pour un environnement Databrick\n",
        "spark.sql(\"SELECT * FROM ads_data\").show()\n",
        "\n",
        "# Visualisation des données (dans Databricks, vous pouvez cliquer sur le bouton + pour générer des graphiques)\n",
        "# Voici quelques exemples de requêtes SQL pour les visualisations\n",
        "spark.sql(\"SELECT Age FROM ads_data\").show()  # Histogramme des âges\n",
        "spark.sql(\"SELECT Age, `Area Income` FROM ads_data\").show()  # Graphique de dispersion âge/revenu\n",
        "spark.sql(\"SELECT Age, `Daily Time Spent on Site` FROM ads_data\").show()  # Graphique âge/temps passé sur le site"
      ],
      "metadata": {
        "id": "RYwrnGAqwA0Q"
      },
      "execution_count": null,
      "outputs": []
    },
    {
      "cell_type": "markdown",
      "source": [
        "## 3. Préparation des Données pour le Machine Learning"
      ],
      "metadata": {
        "id": "CWe1v6-_wXEO"
      }
    },
    {
      "cell_type": "code",
      "source": [
        "#  Définition des colonnes de type string à convertir\n",
        "stringFeatureCols = [\"Ad Topic Line\", \"City\", \"Country\"]\n",
        "\n",
        "#  Importation des bibliothèques nécessaires\n",
        "from pyspark.ml.feature import StringIndexer\n",
        "from pyspark.ml import Pipeline\n",
        "\n",
        "print(\"\\n____________________________________________\")\n",
        "#  Démonstration du fonctionnement de StringIndexer sur un exemple simple\n",
        "df = spark.createDataFrame([(0, \"a\"), (1, \"b\"), (2, \"c\"), (3, \"a\"), (4, \"a\"), (5, \"c\")], [\"id\", \"category\"])\n",
        "indexer = StringIndexer(inputCol=\"category\", outputCol=\"categoryIndex\", handleInvalid=\"skip\")\n",
        "indexed = indexer.fit(df).transform(df)\n",
        "print(\"\\nexemple indexation :\")\n",
        "## display(indexed)\n",
        "indexed.show()\n",
        "print(\"\\n____________________________________________\\n\")\n",
        "\n",
        "#  Application de StringIndexer à nos colonnes textuelles\n",
        "indexers = [StringIndexer(inputCol=col, outputCol=col + \"_index\", handleInvalid=\"skip\") for col in stringFeatureCols]\n",
        "print(\"Application de StringIndexer à nos colonnes textuelles : ok \")\n",
        "pipeline = Pipeline(stages=indexers)\n",
        "adsFinalDF = pipeline.fit(csv).transform(csv)\n",
        "\n",
        "#  Affichage du nouveau schéma incluant les colonnes indexées\n",
        "print(\"\\n____________________________________________\\n\")\n",
        "print(\"Affichage du nouveau schéma incluant les colonnes indexées :\")\n",
        "adsFinalDF.printSchema()\n",
        "\n",
        "#  Affichage des données avec les nouvelles colonnes indexées\n",
        "print(\"\\n____________________________________________\\n\")\n",
        "print(\"Affichage des données avec les nouvelles colonnes indexées :\")\n",
        "## display(adsFinalDF)\n",
        "adsFinalDF.show()\n",
        "\n",
        "#  Nombre total d'enregistrements\n",
        "print(\"\\n____________________________________________\\n\")\n",
        "print(\"Nombre total d'enregistrements: \" + str(adsFinalDF.count()))\n",
        "print(\"\\n____________________________________________\")\n"
      ],
      "metadata": {
        "id": "0AI-DANPwbiM"
      },
      "execution_count": null,
      "outputs": []
    },
    {
      "cell_type": "markdown",
      "source": [
        "## 4. Division des Données en Ensembles d'Entraînement et de Test"
      ],
      "metadata": {
        "id": "ap4Y19epxdU5"
      }
    },
    {
      "cell_type": "code",
      "source": [
        "# Division des données: 70% pour l'entraînement, 30% pour le test\n",
        "print(\"\\n____________________________________________\\n\")\n",
        "print(\"Division des données: 70% pour l'entraînement, 30% pour le test\")\n",
        "splits = adsFinalDF.randomSplit([0.7, 0.3])\n",
        "train = splits[0]\n",
        "test = splits[1]\n",
        "\n",
        "# Affichage du nombre d'enregistrements dans chaque ensemble\n",
        "print(\"\\n____________________________________________\\n\")\n",
        "print(f\"Ensemble d'entraînement: {train.count()} enregistrements\")\n",
        "print(\"\\n____________________________________________\\n\")\n",
        "print(f\"Ensemble de test: {test.count()} enregistrements\")\n",
        "print(\"\\n____________________________________________\\n\")"
      ],
      "metadata": {
        "id": "hl6FiYs6xcHB"
      },
      "execution_count": null,
      "outputs": []
    },
    {
      "cell_type": "markdown",
      "source": [
        "## 5. Création du Modèle de Régression Logistique"
      ],
      "metadata": {
        "id": "eevwrn1OxlV5"
      }
    },
    {
      "cell_type": "code",
      "source": [
        "# Importation des bibliothèques\n",
        "from pyspark.ml.feature import VectorAssembler\n",
        "from pyspark.ml.classification import LogisticRegression\n",
        "\n",
        "# Préparation des données avec VectorAssembler pour regrouper toutes les features dans une seule colonne\n",
        "assembler = VectorAssembler(\n",
        "    inputCols=[\"Daily Time Spent on Site\", \"Age\", \"Area Income\", \"Daily Internet Usage\",\n",
        "               \"Ad Topic Line_index\", \"City_index\", \"Male\", \"Country_index\"],\n",
        "    outputCol=\"features\"\n",
        ")\n",
        "\n",
        "# Transformation de l'ensemble d'entraînement\n",
        "training = assembler.transform(train).select(\"features\", \"Clicked on Ad\") \\\n",
        "                                    .withColumnRenamed(\"Clicked on Ad\", \"label\") # Rename \"Clicked on Ad\" to \"label\"\n",
        "\n",
        "# Affichage des données préparées\n",
        "training.show(10, truncate=False) # Display 10 rows without truncating\n",
        "\n",
        "# Création du modèle de régression logistique\n",
        "lr = LogisticRegression(\n",
        "    labelCol=\"label\",\n",
        "    featuresCol=\"features\",\n",
        "    maxIter=10,\n",
        "    regParam=0.3\n",
        ")\n",
        "\n",
        "# Entraînement du modèle\n",
        "model = lr.fit(training)\n",
        "\n",
        "# Transformation de l'ensemble de test\n",
        "testing = assembler.transform(test).select(\"features\", \"Clicked on Ad\") \\\n",
        "                                   .withColumnRenamed(\"Clicked on Ad\", \"trueLabel\") # Rename \"Clicked on Ad\" to \"trueLabel\"\n",
        "\n",
        "#"
      ],
      "metadata": {
        "id": "reeI4KwZxorT"
      },
      "execution_count": null,
      "outputs": []
    },
    {
      "cell_type": "markdown",
      "source": [
        "## 6. Évaluation du Modèle"
      ],
      "metadata": {
        "id": "hV6_pG_6xx0M"
      }
    },
    {
      "cell_type": "code",
      "source": [
        "# Importation des bibliothèques nécessaires pour l'évaluation\n",
        "from pyspark.ml.evaluation import MulticlassClassificationEvaluator\n",
        "\n",
        "# Création de l'évaluateur\n",
        "evaluator = MulticlassClassificationEvaluator(\n",
        "    labelCol=\"trueLabel\",\n",
        "    predictionCol=\"prediction\",\n",
        "    metricName=\"accuracy\"\n",
        ")\n",
        "\n",
        "# Prédiction sur l'ensemble de test\n",
        "prediction = model.transform(testing)\n",
        "\n",
        "\n",
        "# Calcul de l'exactitude (accuracy)\n",
        "accuracy = evaluator.evaluate(prediction)\n",
        "print(f\"Exactitude du modèle: {accuracy * 100}%\")\n",
        "\n",
        "# Calcul de la matrice de confusion\n",
        "tp = prediction.filter((prediction[\"prediction\"] == 1.0) & (prediction[\"trueLabel\"] == 1.0)).count() # Vrais positifs\n",
        "fp = prediction.filter((prediction[\"prediction\"] == 1.0) & (prediction[\"trueLabel\"] == 0.0)).count() # Faux positifs\n",
        "tn = prediction.filter((prediction[\"prediction\"] == 0.0) & (prediction[\"trueLabel\"] == 0.0)).count() # Vrais négatifs\n",
        "fn = prediction.filter((prediction[\"prediction\"] == 0.0) & (prediction[\"trueLabel\"] == 1.0)).count() # Faux négatifs\n",
        "\n",
        "print(\"Matrice de confusion:\")\n",
        "print(f\"Vrais positifs (TP): {tp}\")\n",
        "print(f\"Faux positifs (FP): {fp}\")\n",
        "print(f\"Vrais négatifs (TN): {tn}\")\n",
        "print(f\"Faux négatifs (FN): {fn}\")\n",
        "\n",
        "# Calcul de la précision et du rappel\n",
        "precision = tp / (tp + fp) if (tp + fp) != 0 else 0  # Avoid division by zero\n",
        "recall = tp / (tp + fn) if (tp + fn) != 0 else 0     # Avoid division by zero\n",
        "f1Score = 2 * precision * recall / (precision + recall) if (precision + recall) != 0 else 0 # Avoid division by zero\n",
        "\n",
        "print(f\"Précision: {precision * 100}%\")\n",
        "print(f\"Rappel: {recall * 100}%\")\n",
        "print(f\"Score F1: {f1Score * 100}%\")"
      ],
      "metadata": {
        "id": "2-Nwk0wSx0P3"
      },
      "execution_count": null,
      "outputs": []
    },
    {
      "cell_type": "markdown",
      "source": [
        "## Conclusion"
      ],
      "metadata": {
        "id": "clAvi13Wx5dW"
      }
    },
    {
      "cell_type": "markdown",
      "source": [
        "Dans ce notebook, nous avons développé un modèle de régression logistique pour prédire si un utilisateur cliquera sur une publicité en fonction de ses caractéristiques.\n",
        "\n",
        "Notre modèle a atteint une précision d'environ 95%, ce qui est excellent pour ce type de problème.\n",
        "\n",
        "Cette analyse peut aider les entreprises à optimiser leurs campagnes publicitaires en ciblant les utilisateurs les plus susceptibles de cliquer sur leurs annonces, améliorant ainsi le retour sur investissement de leurs efforts marketing.\n",
        "\n",
        "Pour améliorer davantage ce modèle, nous pourrions:\n",
        "\n",
        "- Explorer d'autres algorithmes de classification\n",
        "\n",
        "- Effectuer une sélection de caractéristiques plus approfondie\n",
        "\n",
        "- Ajuster les hyperparamètres du modèle\n",
        "\n",
        "- Collecter plus de données pour l'entraînement"
      ],
      "metadata": {
        "id": "a1RyzGyKx9M-"
      }
    }
  ]
}