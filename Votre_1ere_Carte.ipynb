{
  "nbformat": 4,
  "nbformat_minor": 0,
  "metadata": {
    "kernelspec": {
      "display_name": "Python 3",
      "language": "python",
      "name": "python3"
    },
    "language_info": {
      "codemirror_mode": {
        "name": "ipython",
        "version": 3
      },
      "file_extension": ".py",
      "mimetype": "text/x-python",
      "name": "python",
      "nbconvert_exporter": "python",
      "pygments_lexer": "ipython3",
      "version": "3.6.5"
    },
    "colab": {
      "name": "Votre 1ere Carte.ipynb",
      "provenance": [],
      "collapsed_sections": [],
      "include_colab_link": true
    }
  },
  "cells": [
    {
      "cell_type": "markdown",
      "metadata": {
        "id": "view-in-github",
        "colab_type": "text"
      },
      "source": [
        "<a href=\"https://colab.research.google.com/github/crystalloide/Big_Data/blob/master/Votre_1ere_Carte.ipynb\" target=\"_parent\"><img src=\"https://colab.research.google.com/assets/colab-badge.svg\" alt=\"Open In Colab\"/></a>"
      ]
    },
    {
      "cell_type": "markdown",
      "metadata": {
        "id": "DGWQeXjrg4Qi",
        "colab_type": "text"
      },
      "source": [
        "Exercice situé à l'origine ici : \n",
        "**[Geospatial Analysis Home Page](https://www.kaggle.com/learn/geospatial-analysis)**\n"
      ]
    },
    {
      "cell_type": "markdown",
      "metadata": {
        "id": "F4oPCIUgg4Qk",
        "colab_type": "text"
      },
      "source": [
        "# Introduction\n",
        "\n",
        "Dans ce TP, nous allons utiliser différentes méthodes pour explorer des données géospatiales : données avec une localisation géographique.\n",
        "\n",
        "<center>\n",
        "<img src = \"https://i.imgur.com/v6ZUGgI.png\"> <br/>\n",
        "</center>\n",
        "\n",
        "En suivant le TP, vous aller pouvoir proposer des solutions à plusieurs problèmes du monde réel, tels que :\n",
        "- Où un organisme humanitaire devrait-il étendre son action dans les régions reculées des Philippines ?\n",
        "- Comment les hirondelles noires, une espèce d'oiseau menacée, voyagent-elles entre l'Amérique du Nord et l'Amérique du Sud? Les oiseaux voyagent-ils vers des zones de conservation ?\n",
        "- Quelles régions du Japon pourraient potentiellement bénéficier d'un renforcement supplémentaire des dispositifs en cas de séisme ?\n",
        "- Quels magasins Starbucks en Californie seraient de bons candidats pour devenir le prochain [Starbucks Reserve Roastery] ?\n",
        "(https://www.forbes.com/sites/garystern/2019/01/22/starbucks-reserve-roastery-its-spacious-and-trendy-but-why-is-starbucks-slowing-down-expansion/#6cb80d4a1bc6)\n",
        "- La ville de New York dispose-t-elle d’hôpitaux en nombre suffisant pour faire face aux accidents de véhicules à moteur? Quelles zones de la ville ont des lacunes dans leur couverture?\n",
        "\n",
        "Vous pourrez également :\n",
        "- visualiser le crime dans la ville de Boston\n",
        "- examiner les établissements de santé du Ghana\n",
        "- explorer les meilleures universités d'Europe\n",
        "- et suivre les rejets de produits chimiques toxiques aux États-Unis.\n",
        "\n",
        "Dans ce premier TP, nous allons voir rapidement les pré-requis nécessaires\n",
        "Si vous souhaitez approfondir le sujet, nous vous recommandons le cours **[Pandas micro-course](https://www.kaggle.com/learn/pandas)**.  \n",
        "\n",
        "Nous allons également commencer à visualiser notre premier jeu de données géospatiales!\n",
        "\n",
        "<div class = \"alert alert-block alert-info\">\n",
        "Pour créer votre propre copie de ce bloc-notes (où vous pouvez exécuter votre propre code),\n",
        "<b> <a href=\"https://www.kaggle.com/kernels/fork/5832150\"> cliquez ici </a>. </b>.\n",
        "</div>\n",
        "\n",
        "\n",
        "# Lecture des données\n",
        "\n",
        "La première étape consiste à lire certaines données géospatiales : \n",
        "Pour cela, nous allons utiliser la bibliothèque [GeoPandas](http://geopandas.org/).\n"
      ]
    },
    {
      "cell_type": "code",
      "metadata": {
        "id": "D39Ub-yDhtl7",
        "colab_type": "code",
        "colab": {
          "base_uri": "https://localhost:8080/",
          "height": 1000
        },
        "outputId": "22113374-a07d-430f-fb61-a37f3099e9f3"
      },
      "source": [
        "!rm -rf /root/.pyenv\n",
        "!apt-get update\n",
        "!apt-get upgrade\n",
        "#!apt-get install -y make build-essential libssl-dev zlib1g-dev libbz2-dev libreadline-dev libsqlite3-dev wget curl llvm libncurses5-dev git\n",
        "!apt-get install make build-essential libssl-dev zlib1g-dev libbz2-dev libreadline-dev libsqlite3-dev wget curl llvm libncurses5-dev git\n",
        "!apt-get install libssl1.0\n",
        "!apt-get install openssl-devel -y\n",
        "# !apt autoremove\n",
        "# !rm -rf /root/.pyenv\n",
        "\n",
        "!curl -L \"https://raw.githubusercontent.com/yyuu/pyenv-installer/master/bin/pyenv-installer\" | bash\n"
      ],
      "execution_count": 46,
      "outputs": [
        {
          "output_type": "stream",
          "text": [
            "\r0% [Working]\r            \rHit:1 https://cloud.r-project.org/bin/linux/ubuntu bionic-cran35/ InRelease\n",
            "\r0% [Connecting to archive.ubuntu.com (91.189.88.24)] [Connecting to security.ub\r0% [1 InRelease gpgv 3,626 B] [Connecting to archive.ubuntu.com (91.189.88.24)]\r                                                                               \rIgn:2 https://developer.download.nvidia.com/compute/cuda/repos/ubuntu1804/x86_64  InRelease\n",
            "\r0% [1 InRelease gpgv 3,626 B] [Connecting to archive.ubuntu.com (91.189.88.24)]\r                                                                               \rHit:3 http://security.ubuntu.com/ubuntu bionic-security InRelease\n",
            "\r0% [1 InRelease gpgv 3,626 B] [Waiting for headers] [Waiting for headers] [Wait\r                                                                               \rIgn:4 https://developer.download.nvidia.com/compute/machine-learning/repos/ubuntu1804/x86_64  InRelease\n",
            "\r                                                                               \r0% [1 InRelease gpgv 3,626 B] [Waiting for headers] [Waiting for headers]\r                                                                         \rHit:5 http://archive.ubuntu.com/ubuntu bionic InRelease\n",
            "\r0% [1 InRelease gpgv 3,626 B] [Waiting for headers] [Waiting for headers]\r                                                                         \rHit:6 https://developer.download.nvidia.com/compute/cuda/repos/ubuntu1804/x86_64  Release\n",
            "\r0% [1 InRelease gpgv 3,626 B] [Waiting for headers] [Waiting for headers]\r                                                                         \rHit:7 http://ppa.launchpad.net/graphics-drivers/ppa/ubuntu bionic InRelease\n",
            "\r0% [1 InRelease gpgv 3,626 B] [Waiting for headers] [Waiting for headers] [Conn\r                                                                               \rHit:8 https://developer.download.nvidia.com/compute/machine-learning/repos/ubuntu1804/x86_64  Release\n",
            "Hit:9 http://archive.ubuntu.com/ubuntu bionic-updates InRelease\n",
            "Hit:10 http://archive.ubuntu.com/ubuntu bionic-backports InRelease\n",
            "Hit:11 http://ppa.launchpad.net/marutter/c2d4u3.5/ubuntu bionic InRelease\n",
            "Reading package lists... Done\n",
            "Reading package lists... Done\n",
            "Building dependency tree       \n",
            "Reading state information... Done\n",
            "Calculating upgrade... Done\n",
            "The following packages have been kept back:\n",
            "  libcublas-dev libcublas10 libcudnn7 libcudnn7-dev libnccl-dev libnccl2\n",
            "0 upgraded, 0 newly installed, 0 to remove and 6 not upgraded.\n",
            "Reading package lists... Done\n",
            "Building dependency tree       \n",
            "Reading state information... Done\n",
            "build-essential is already the newest version (12.4ubuntu1).\n",
            "libreadline-dev is already the newest version (7.0-3).\n",
            "make is already the newest version (4.1-9.1ubuntu1).\n",
            "zlib1g-dev is already the newest version (1:1.2.11.dfsg-0ubuntu2).\n",
            "curl is already the newest version (7.58.0-2ubuntu3.8).\n",
            "git is already the newest version (1:2.17.1-1ubuntu0.5).\n",
            "libbz2-dev is already the newest version (1.0.6-8.1ubuntu0.2).\n",
            "libncurses5-dev is already the newest version (6.1-1ubuntu1.18.04).\n",
            "libsqlite3-dev is already the newest version (3.22.0-1ubuntu0.2).\n",
            "wget is already the newest version (1.19.4-1ubuntu2.2).\n",
            "llvm is already the newest version (1:6.0-41~exp5~ubuntu1).\n",
            "Suggested packages:\n",
            "  libssl-doc\n",
            "The following packages will be REMOVED:\n",
            "  libssl1.0-dev\n",
            "The following NEW packages will be installed:\n",
            "  libssl-dev\n",
            "0 upgraded, 1 newly installed, 1 to remove and 6 not upgraded.\n",
            "Need to get 1,566 kB of archives.\n",
            "After this operation, 599 kB of additional disk space will be used.\n",
            "Get:1 http://archive.ubuntu.com/ubuntu bionic-updates/main amd64 libssl-dev amd64 1.1.1-1ubuntu2.1~18.04.5 [1,566 kB]\n",
            "Fetched 1,566 kB in 1s (1,806 kB/s)\n",
            "(Reading database ... 137131 files and directories currently installed.)\n",
            "Removing libssl1.0-dev:amd64 (1.0.2n-1ubuntu5.3) ...\n",
            "Selecting previously unselected package libssl-dev:amd64.\n",
            "(Reading database ... 137045 files and directories currently installed.)\n",
            "Preparing to unpack .../libssl-dev_1.1.1-1ubuntu2.1~18.04.5_amd64.deb ...\n",
            "Unpacking libssl-dev:amd64 (1.1.1-1ubuntu2.1~18.04.5) ...\n",
            "Setting up libssl-dev:amd64 (1.1.1-1ubuntu2.1~18.04.5) ...\n",
            "Reading package lists... Done\n",
            "Building dependency tree       \n",
            "Reading state information... Done\n",
            "Note, selecting 'libssl1.0-dev' for regex 'libssl1.0'\n",
            "Note, selecting 'libssl1.0.0' for regex 'libssl1.0'\n",
            "Note, selecting 'libssl1.0.2' for regex 'libssl1.0'\n",
            "libssl1.0.0 is already the newest version (1.0.2n-1ubuntu5.3).\n",
            "The following packages will be REMOVED:\n",
            "  libssl-dev\n",
            "The following NEW packages will be installed:\n",
            "  libssl1.0-dev\n",
            "0 upgraded, 1 newly installed, 1 to remove and 6 not upgraded.\n",
            "Need to get 1,365 kB of archives.\n",
            "After this operation, 599 kB disk space will be freed.\n",
            "Get:1 http://archive.ubuntu.com/ubuntu bionic-updates/main amd64 libssl1.0-dev amd64 1.0.2n-1ubuntu5.3 [1,365 kB]\n",
            "Fetched 1,365 kB in 1s (1,514 kB/s)\n",
            "(Reading database ... 137162 files and directories currently installed.)\n",
            "Removing libssl-dev:amd64 (1.1.1-1ubuntu2.1~18.04.5) ...\n",
            "Selecting previously unselected package libssl1.0-dev:amd64.\n",
            "(Reading database ... 137045 files and directories currently installed.)\n",
            "Preparing to unpack .../libssl1.0-dev_1.0.2n-1ubuntu5.3_amd64.deb ...\n",
            "Unpacking libssl1.0-dev:amd64 (1.0.2n-1ubuntu5.3) ...\n",
            "Setting up libssl1.0-dev:amd64 (1.0.2n-1ubuntu5.3) ...\n",
            "Reading package lists... Done\n",
            "Building dependency tree       \n",
            "Reading state information... Done\n",
            "E: Unable to locate package openssl-devel\n",
            "  % Total    % Received % Xferd  Average Speed   Time    Time     Time  Current\n",
            "                                 Dload  Upload   Total   Spent    Left  Speed\n",
            "100  2454  100  2454    0     0  30296      0 --:--:-- --:--:-- --:--:-- 29926\n",
            "Cloning into '/root/.pyenv'...\n",
            "remote: Enumerating objects: 667, done.\u001b[K\n",
            "remote: Counting objects: 100% (667/667), done.\u001b[K\n",
            "remote: Compressing objects: 100% (500/500), done.\u001b[K\n",
            "remote: Total 667 (delta 333), reused 258 (delta 76), pack-reused 0\u001b[K\n",
            "Receiving objects: 100% (667/667), 379.50 KiB | 8.43 MiB/s, done.\n",
            "Resolving deltas: 100% (333/333), done.\n",
            "Cloning into '/root/.pyenv/plugins/pyenv-doctor'...\n",
            "remote: Enumerating objects: 11, done.\u001b[K\n",
            "remote: Counting objects: 100% (11/11), done.\u001b[K\n",
            "remote: Compressing objects: 100% (9/9), done.\u001b[K\n",
            "remote: Total 11 (delta 1), reused 2 (delta 0), pack-reused 0\u001b[K\n",
            "Unpacking objects: 100% (11/11), done.\n",
            "Cloning into '/root/.pyenv/plugins/pyenv-installer'...\n",
            "remote: Enumerating objects: 16, done.\u001b[K\n",
            "remote: Counting objects: 100% (16/16), done.\u001b[K\n",
            "remote: Compressing objects: 100% (13/13), done.\u001b[K\n",
            "remote: Total 16 (delta 1), reused 8 (delta 0), pack-reused 0\u001b[K\n",
            "Unpacking objects: 100% (16/16), done.\n",
            "Cloning into '/root/.pyenv/plugins/pyenv-update'...\n",
            "remote: Enumerating objects: 10, done.\u001b[K\n",
            "remote: Counting objects: 100% (10/10), done.\u001b[K\n",
            "remote: Compressing objects: 100% (6/6), done.\u001b[K\n",
            "remote: Total 10 (delta 1), reused 6 (delta 0), pack-reused 0\u001b[K\n",
            "Unpacking objects: 100% (10/10), done.\n",
            "Cloning into '/root/.pyenv/plugins/pyenv-virtualenv'...\n",
            "remote: Enumerating objects: 57, done.\u001b[K\n",
            "remote: Counting objects: 100% (57/57), done.\u001b[K\n",
            "remote: Compressing objects: 100% (51/51), done.\u001b[K\n",
            "remote: Total 57 (delta 11), reused 21 (delta 0), pack-reused 0\u001b[K\n",
            "Unpacking objects: 100% (57/57), done.\n",
            "Cloning into '/root/.pyenv/plugins/pyenv-which-ext'...\n",
            "remote: Enumerating objects: 10, done.\u001b[K\n",
            "remote: Counting objects: 100% (10/10), done.\u001b[K\n",
            "remote: Compressing objects: 100% (6/6), done.\u001b[K\n",
            "remote: Total 10 (delta 1), reused 6 (delta 0), pack-reused 0\u001b[K\n",
            "Unpacking objects: 100% (10/10), done.\n",
            "\n",
            "\u001b[1mWARNING\u001b[m: seems you still have not added 'pyenv' to the load path.\n",
            "\n",
            "# Load pyenv automatically by adding\n",
            "# the following to ~/.bashrc:\n",
            "\n",
            "export PATH=\"/root/.pyenv/bin:$PATH\"\n",
            "eval \"$(pyenv init -)\"\n",
            "eval \"$(pyenv virtualenv-init -)\"\n"
          ],
          "name": "stdout"
        }
      ]
    },
    {
      "cell_type": "code",
      "metadata": {
        "id": "G8E4wNJpi1WB",
        "colab_type": "code",
        "colab": {
          "base_uri": "https://localhost:8080/",
          "height": 102
        },
        "outputId": "50bdf91b-b4e4-43c3-ef85-bbec4eb5eda9"
      },
      "source": [
        "!/root/.pyenv/bin/pyenv install 3.6.0\n"
      ],
      "execution_count": 47,
      "outputs": [
        {
          "output_type": "stream",
          "text": [
            "Downloading Python-3.6.0.tar.xz...\n",
            "-> https://www.python.org/ftp/python/3.6.0/Python-3.6.0.tar.xz\n",
            "Installing Python-3.6.0...\n",
            "Installed Python-3.6.0 to /root/.pyenv/versions/3.6.0\n",
            "\n"
          ],
          "name": "stdout"
        }
      ]
    },
    {
      "cell_type": "code",
      "metadata": {
        "id": "59SsgYOrpn82",
        "colab_type": "code",
        "colab": {
          "base_uri": "https://localhost:8080/",
          "height": 51
        },
        "outputId": "fc9180e7-04bb-403a-8c4d-23b25685bb05"
      },
      "source": [
        "!/root/.pyenv/bin/pyenv global 3.6.0\n",
        "!/root/.pyenv/bin/pyenv versions"
      ],
      "execution_count": 1,
      "outputs": [
        {
          "output_type": "stream",
          "text": [
            "  system\n",
            "* 3.6.0 (set by /root/.pyenv/version)\n"
          ],
          "name": "stdout"
        }
      ]
    },
    {
      "cell_type": "code",
      "metadata": {
        "id": "i_dOhRlDtdgP",
        "colab_type": "code",
        "colab": {
          "base_uri": "https://localhost:8080/",
          "height": 1000
        },
        "outputId": "d592e7a7-fb54-413c-9b06-80248ac16ce6"
      },
      "source": [
        "# !python3 -v"
      ],
      "execution_count": 0,
      "outputs": [
        {
          "output_type": "stream",
          "text": [
            "import _frozen_importlib # frozen\n",
            "import _imp # builtin\n",
            "import sys # builtin\n",
            "import '_warnings' # <class '_frozen_importlib.BuiltinImporter'>\n",
            "import '_thread' # <class '_frozen_importlib.BuiltinImporter'>\n",
            "import '_weakref' # <class '_frozen_importlib.BuiltinImporter'>\n",
            "import '_frozen_importlib_external' # <class '_frozen_importlib.FrozenImporter'>\n",
            "import '_io' # <class '_frozen_importlib.BuiltinImporter'>\n",
            "import 'marshal' # <class '_frozen_importlib.BuiltinImporter'>\n",
            "import 'posix' # <class '_frozen_importlib.BuiltinImporter'>\n",
            "import _thread # previously loaded ('_thread')\n",
            "import '_thread' # <class '_frozen_importlib.BuiltinImporter'>\n",
            "import _weakref # previously loaded ('_weakref')\n",
            "import '_weakref' # <class '_frozen_importlib.BuiltinImporter'>\n",
            "# installing zipimport hook\n",
            "import 'zipimport' # <class '_frozen_importlib.BuiltinImporter'>\n",
            "# installed zipimport hook\n",
            "# /usr/lib/python3.6/encodings/__pycache__/__init__.cpython-36.pyc matches /usr/lib/python3.6/encodings/__init__.py\n",
            "# code object from '/usr/lib/python3.6/encodings/__pycache__/__init__.cpython-36.pyc'\n",
            "# /usr/lib/python3.6/__pycache__/codecs.cpython-36.pyc matches /usr/lib/python3.6/codecs.py\n",
            "# code object from '/usr/lib/python3.6/__pycache__/codecs.cpython-36.pyc'\n",
            "import '_codecs' # <class '_frozen_importlib.BuiltinImporter'>\n",
            "import 'codecs' # <_frozen_importlib_external.SourceFileLoader object at 0x7f0475db1438>\n",
            "# /usr/lib/python3.6/encodings/__pycache__/aliases.cpython-36.pyc matches /usr/lib/python3.6/encodings/aliases.py\n",
            "# code object from '/usr/lib/python3.6/encodings/__pycache__/aliases.cpython-36.pyc'\n",
            "import 'encodings.aliases' # <_frozen_importlib_external.SourceFileLoader object at 0x7f0475dbedd8>\n",
            "import 'encodings' # <_frozen_importlib_external.SourceFileLoader object at 0x7f0475e23f60>\n",
            "# /usr/lib/python3.6/encodings/__pycache__/utf_8.cpython-36.pyc matches /usr/lib/python3.6/encodings/utf_8.py\n",
            "# code object from '/usr/lib/python3.6/encodings/__pycache__/utf_8.cpython-36.pyc'\n",
            "import 'encodings.utf_8' # <_frozen_importlib_external.SourceFileLoader object at 0x7f0475dccbe0>\n",
            "import '_signal' # <class '_frozen_importlib.BuiltinImporter'>\n",
            "# /usr/lib/python3.6/encodings/__pycache__/latin_1.cpython-36.pyc matches /usr/lib/python3.6/encodings/latin_1.py\n",
            "# code object from '/usr/lib/python3.6/encodings/__pycache__/latin_1.cpython-36.pyc'\n",
            "import 'encodings.latin_1' # <_frozen_importlib_external.SourceFileLoader object at 0x7f0475dd4710>\n",
            "# /usr/lib/python3.6/__pycache__/io.cpython-36.pyc matches /usr/lib/python3.6/io.py\n",
            "# code object from '/usr/lib/python3.6/__pycache__/io.cpython-36.pyc'\n",
            "# /usr/lib/python3.6/__pycache__/abc.cpython-36.pyc matches /usr/lib/python3.6/abc.py\n",
            "# code object from '/usr/lib/python3.6/__pycache__/abc.cpython-36.pyc'\n",
            "# /usr/lib/python3.6/__pycache__/_weakrefset.cpython-36.pyc matches /usr/lib/python3.6/_weakrefset.py\n",
            "# code object from '/usr/lib/python3.6/__pycache__/_weakrefset.cpython-36.pyc'\n",
            "import '_weakrefset' # <_frozen_importlib_external.SourceFileLoader object at 0x7f0475dd86a0>\n",
            "import 'abc' # <_frozen_importlib_external.SourceFileLoader object at 0x7f0475dd4cf8>\n",
            "import 'io' # <_frozen_importlib_external.SourceFileLoader object at 0x7f0475dd4940>\n",
            "# /usr/lib/python3.6/__pycache__/warnings.cpython-36.pyc matches /usr/lib/python3.6/warnings.py\n",
            "# code object from '/usr/lib/python3.6/__pycache__/warnings.cpython-36.pyc'\n",
            "# /usr/lib/python3.6/__pycache__/re.cpython-36.pyc matches /usr/lib/python3.6/re.py\n",
            "# code object from '/usr/lib/python3.6/__pycache__/re.cpython-36.pyc'\n",
            "# /usr/lib/python3.6/__pycache__/enum.cpython-36.pyc matches /usr/lib/python3.6/enum.py\n",
            "# code object from '/usr/lib/python3.6/__pycache__/enum.cpython-36.pyc'\n",
            "# /usr/lib/python3.6/__pycache__/types.cpython-36.pyc matches /usr/lib/python3.6/types.py\n",
            "# code object from '/usr/lib/python3.6/__pycache__/types.cpython-36.pyc'\n",
            "# /usr/lib/python3.6/__pycache__/functools.cpython-36.pyc matches /usr/lib/python3.6/functools.py\n",
            "# code object from '/usr/lib/python3.6/__pycache__/functools.cpython-36.pyc'\n",
            "import '_functools' # <class '_frozen_importlib.BuiltinImporter'>\n",
            "# /usr/lib/python3.6/collections/__pycache__/__init__.cpython-36.pyc matches /usr/lib/python3.6/collections/__init__.py\n",
            "# code object from '/usr/lib/python3.6/collections/__pycache__/__init__.cpython-36.pyc'\n",
            "# /usr/lib/python3.6/__pycache__/_collections_abc.cpython-36.pyc matches /usr/lib/python3.6/_collections_abc.py\n",
            "# code object from '/usr/lib/python3.6/__pycache__/_collections_abc.cpython-36.pyc'\n",
            "import '_collections_abc' # <_frozen_importlib_external.SourceFileLoader object at 0x7f0475d3c0b8>\n",
            "# /usr/lib/python3.6/__pycache__/operator.cpython-36.pyc matches /usr/lib/python3.6/operator.py\n",
            "# code object from '/usr/lib/python3.6/__pycache__/operator.cpython-36.pyc'\n",
            "import '_operator' # <class '_frozen_importlib.BuiltinImporter'>\n",
            "import 'operator' # <_frozen_importlib_external.SourceFileLoader object at 0x7f0475d45e80>\n",
            "# /usr/lib/python3.6/__pycache__/keyword.cpython-36.pyc matches /usr/lib/python3.6/keyword.py\n",
            "# code object from '/usr/lib/python3.6/__pycache__/keyword.cpython-36.pyc'\n",
            "import 'keyword' # <_frozen_importlib_external.SourceFileLoader object at 0x7f0475cf8278>\n",
            "# /usr/lib/python3.6/__pycache__/heapq.cpython-36.pyc matches /usr/lib/python3.6/heapq.py\n",
            "# code object from '/usr/lib/python3.6/__pycache__/heapq.cpython-36.pyc'\n",
            "import '_heapq' # <class '_frozen_importlib.BuiltinImporter'>\n",
            "import 'heapq' # <_frozen_importlib_external.SourceFileLoader object at 0x7f0475cf8b00>\n",
            "import 'itertools' # <class '_frozen_importlib.BuiltinImporter'>\n",
            "# /usr/lib/python3.6/__pycache__/reprlib.cpython-36.pyc matches /usr/lib/python3.6/reprlib.py\n",
            "# code object from '/usr/lib/python3.6/__pycache__/reprlib.cpython-36.pyc'\n",
            "import 'reprlib' # <_frozen_importlib_external.SourceFileLoader object at 0x7f0475d050f0>\n",
            "import '_collections' # <class '_frozen_importlib.BuiltinImporter'>\n",
            "import 'collections' # <_frozen_importlib_external.SourceFileLoader object at 0x7f0475d9a6a0>\n",
            "# /usr/lib/python3.6/__pycache__/weakref.cpython-36.pyc matches /usr/lib/python3.6/weakref.py\n",
            "# code object from '/usr/lib/python3.6/__pycache__/weakref.cpython-36.pyc'\n",
            "import 'weakref' # <_frozen_importlib_external.SourceFileLoader object at 0x7f0475d9aac8>\n",
            "import 'functools' # <_frozen_importlib_external.SourceFileLoader object at 0x7f0475d85e48>\n",
            "# /usr/lib/python3.6/collections/__pycache__/abc.cpython-36.pyc matches /usr/lib/python3.6/collections/abc.py\n",
            "# code object from '/usr/lib/python3.6/collections/__pycache__/abc.cpython-36.pyc'\n",
            "import 'collections.abc' # <_frozen_importlib_external.SourceFileLoader object at 0x7f0475d8dac8>\n",
            "import 'types' # <_frozen_importlib_external.SourceFileLoader object at 0x7f0475d850f0>\n",
            "import 'enum' # <_frozen_importlib_external.SourceFileLoader object at 0x7f0475d75048>\n",
            "# /usr/lib/python3.6/__pycache__/sre_compile.cpython-36.pyc matches /usr/lib/python3.6/sre_compile.py\n",
            "# code object from '/usr/lib/python3.6/__pycache__/sre_compile.cpython-36.pyc'\n",
            "import '_sre' # <class '_frozen_importlib.BuiltinImporter'>\n",
            "# /usr/lib/python3.6/__pycache__/sre_parse.cpython-36.pyc matches /usr/lib/python3.6/sre_parse.py\n",
            "# code object from '/usr/lib/python3.6/__pycache__/sre_parse.cpython-36.pyc'\n",
            "# /usr/lib/python3.6/__pycache__/sre_constants.cpython-36.pyc matches /usr/lib/python3.6/sre_constants.py\n",
            "# code object from '/usr/lib/python3.6/__pycache__/sre_constants.cpython-36.pyc'\n",
            "import 'sre_constants' # <_frozen_importlib_external.SourceFileLoader object at 0x7f0475cad470>\n",
            "import 'sre_parse' # <_frozen_importlib_external.SourceFileLoader object at 0x7f0475d1ff98>\n",
            "import 'sre_compile' # <_frozen_importlib_external.SourceFileLoader object at 0x7f0475d8dda0>\n",
            "import '_locale' # <class '_frozen_importlib.BuiltinImporter'>\n",
            "# /usr/lib/python3.6/__pycache__/copyreg.cpython-36.pyc matches /usr/lib/python3.6/copyreg.py\n",
            "# code object from '/usr/lib/python3.6/__pycache__/copyreg.cpython-36.pyc'\n",
            "import 'copyreg' # <_frozen_importlib_external.SourceFileLoader object at 0x7f0475cc42e8>\n",
            "import 're' # <_frozen_importlib_external.SourceFileLoader object at 0x7f0475deacf8>\n",
            "import 'warnings' # <_frozen_importlib_external.SourceFileLoader object at 0x7f0475dddf98>\n",
            "# /usr/lib/python3.6/__pycache__/site.cpython-36.pyc matches /usr/lib/python3.6/site.py\n",
            "# code object from '/usr/lib/python3.6/__pycache__/site.cpython-36.pyc'\n",
            "# /usr/lib/python3.6/__pycache__/os.cpython-36.pyc matches /usr/lib/python3.6/os.py\n",
            "# code object from '/usr/lib/python3.6/__pycache__/os.cpython-36.pyc'\n",
            "import 'errno' # <class '_frozen_importlib.BuiltinImporter'>\n",
            "# /usr/lib/python3.6/__pycache__/stat.cpython-36.pyc matches /usr/lib/python3.6/stat.py\n",
            "# code object from '/usr/lib/python3.6/__pycache__/stat.cpython-36.pyc'\n",
            "import '_stat' # <class '_frozen_importlib.BuiltinImporter'>\n",
            "import 'stat' # <_frozen_importlib_external.SourceFileLoader object at 0x7f0475cdba20>\n",
            "# /usr/lib/python3.6/__pycache__/posixpath.cpython-36.pyc matches /usr/lib/python3.6/posixpath.py\n",
            "# code object from '/usr/lib/python3.6/__pycache__/posixpath.cpython-36.pyc'\n",
            "# /usr/lib/python3.6/__pycache__/genericpath.cpython-36.pyc matches /usr/lib/python3.6/genericpath.py\n",
            "# code object from '/usr/lib/python3.6/__pycache__/genericpath.cpython-36.pyc'\n",
            "import 'genericpath' # <_frozen_importlib_external.SourceFileLoader object at 0x7f0475ce4080>\n",
            "import 'posixpath' # <_frozen_importlib_external.SourceFileLoader object at 0x7f0475cde7b8>\n",
            "import 'os' # <_frozen_importlib_external.SourceFileLoader object at 0x7f0475ccb438>\n",
            "# /usr/lib/python3.6/__pycache__/_sitebuiltins.cpython-36.pyc matches /usr/lib/python3.6/_sitebuiltins.py\n",
            "# code object from '/usr/lib/python3.6/__pycache__/_sitebuiltins.cpython-36.pyc'\n",
            "import '_sitebuiltins' # <_frozen_importlib_external.SourceFileLoader object at 0x7f0475ccb828>\n",
            "# /usr/lib/python3.6/__pycache__/sysconfig.cpython-36.pyc matches /usr/lib/python3.6/sysconfig.py\n",
            "# code object from '/usr/lib/python3.6/__pycache__/sysconfig.cpython-36.pyc'\n",
            "import 'sysconfig' # <_frozen_importlib_external.SourceFileLoader object at 0x7f0475ce4710>\n",
            "# /usr/lib/python3.6/__pycache__/_sysconfigdata_m_linux_x86_64-linux-gnu.cpython-36.pyc matches /usr/lib/python3.6/_sysconfigdata_m_linux_x86_64-linux-gnu.py\n",
            "# code object from '/usr/lib/python3.6/__pycache__/_sysconfigdata_m_linux_x86_64-linux-gnu.cpython-36.pyc'\n",
            "import '_sysconfigdata_m_linux_x86_64-linux-gnu' # <_frozen_importlib_external.SourceFileLoader object at 0x7f0475c77e48>\n",
            "# /usr/lib/python3.6/__pycache__/_bootlocale.cpython-36.pyc matches /usr/lib/python3.6/_bootlocale.py\n",
            "# code object from '/usr/lib/python3.6/__pycache__/_bootlocale.cpython-36.pyc'\n",
            "import '_bootlocale' # <_frozen_importlib_external.SourceFileLoader object at 0x7f0475c7fe10>\n",
            "# /usr/lib/python3.6/importlib/__pycache__/__init__.cpython-36.pyc matches /usr/lib/python3.6/importlib/__init__.py\n",
            "# code object from '/usr/lib/python3.6/importlib/__pycache__/__init__.cpython-36.pyc'\n",
            "import 'importlib' # <_frozen_importlib_external.SourceFileLoader object at 0x7f0475c9a320>\n",
            "# /usr/lib/python3.6/importlib/__pycache__/util.cpython-36.pyc matches /usr/lib/python3.6/importlib/util.py\n",
            "# code object from '/usr/lib/python3.6/importlib/__pycache__/util.cpython-36.pyc'\n",
            "# /usr/lib/python3.6/importlib/__pycache__/abc.cpython-36.pyc matches /usr/lib/python3.6/importlib/abc.py\n",
            "# code object from '/usr/lib/python3.6/importlib/__pycache__/abc.cpython-36.pyc'\n",
            "# /usr/lib/python3.6/importlib/__pycache__/machinery.cpython-36.pyc matches /usr/lib/python3.6/importlib/machinery.py\n",
            "# code object from '/usr/lib/python3.6/importlib/__pycache__/machinery.cpython-36.pyc'\n",
            "import 'importlib.machinery' # <_frozen_importlib_external.SourceFileLoader object at 0x7f0475c965c0>\n",
            "import 'importlib.abc' # <_frozen_importlib_external.SourceFileLoader object at 0x7f0475c9aeb8>\n",
            "# /usr/lib/python3.6/__pycache__/contextlib.cpython-36.pyc matches /usr/lib/python3.6/contextlib.py\n",
            "# code object from '/usr/lib/python3.6/__pycache__/contextlib.cpython-36.pyc'\n",
            "import 'contextlib' # <_frozen_importlib_external.SourceFileLoader object at 0x7f0475ca5278>\n",
            "import 'importlib.util' # <_frozen_importlib_external.SourceFileLoader object at 0x7f0475c9a6d8>\n",
            "# possible namespace for /usr/local/lib/python3.6/dist-packages/google\n",
            "# possible namespace for /usr/local/lib/python3.6/dist-packages/google\n",
            "# destroy google\n",
            "# possible namespace for /usr/local/lib/python3.6/dist-packages/google\n",
            "# destroy google\n",
            "# possible namespace for /usr/local/lib/python3.6/dist-packages/google\n",
            "# destroy google\n",
            "# possible namespace for /usr/local/lib/python3.6/dist-packages/google/cloud\n",
            "# possible namespace for /usr/local/lib/python3.6/dist-packages/google\n",
            "# destroy google\n",
            "# possible namespace for /usr/local/lib/python3.6/dist-packages/google\n",
            "# destroy google\n",
            "# possible namespace for /usr/local/lib/python3.6/dist-packages/google/cloud\n",
            "# destroy google.cloud\n",
            "# possible namespace for /usr/local/lib/python3.6/dist-packages/google\n",
            "# destroy google\n",
            "# possible namespace for /usr/local/lib/python3.6/dist-packages/google\n",
            "# destroy google\n",
            "# possible namespace for /usr/local/lib/python3.6/dist-packages/google/cloud\n",
            "# destroy google.cloud\n",
            "# possible namespace for /usr/local/lib/python3.6/dist-packages/google\n",
            "# destroy google\n",
            "# possible namespace for /usr/local/lib/python3.6/dist-packages/google\n",
            "# destroy google\n",
            "# possible namespace for /usr/local/lib/python3.6/dist-packages/google/cloud\n",
            "# destroy google.cloud\n",
            "# possible namespace for /usr/local/lib/python3.6/dist-packages/google\n",
            "# destroy google\n",
            "# possible namespace for /usr/local/lib/python3.6/dist-packages/google\n",
            "# destroy google\n",
            "# possible namespace for /usr/local/lib/python3.6/dist-packages/google/cloud\n",
            "# destroy google.cloud\n",
            "# possible namespace for /usr/local/lib/python3.6/dist-packages/google\n",
            "# destroy google\n",
            "# possible namespace for /usr/local/lib/python3.6/dist-packages/google\n",
            "# destroy google\n",
            "# possible namespace for /usr/local/lib/python3.6/dist-packages/google/cloud\n",
            "# destroy google.cloud\n",
            "# possible namespace for /usr/local/lib/python3.6/dist-packages/google\n",
            "# destroy google\n",
            "# possible namespace for /usr/local/lib/python3.6/dist-packages/google\n",
            "# destroy google\n",
            "# possible namespace for /usr/local/lib/python3.6/dist-packages/google\n",
            "# destroy google\n",
            "# possible namespace for /usr/local/lib/python3.6/dist-packages/google\n",
            "# destroy google\n",
            "# possible namespace for /usr/local/lib/python3.6/dist-packages/google/logging\n",
            "# possible namespace for /usr/local/lib/python3.6/dist-packages/mpl_toolkits\n",
            "# possible namespace for /usr/local/lib/python3.6/dist-packages/google\n",
            "# destroy google\n",
            "# possible namespace for /usr/local/lib/python3.6/dist-packages/sphinxcontrib\n",
            "# /usr/lib/python3.6/__pycache__/sitecustomize.cpython-36.pyc matches /usr/lib/python3.6/sitecustomize.py\n",
            "# code object from '/usr/lib/python3.6/__pycache__/sitecustomize.cpython-36.pyc'\n",
            "import 'sitecustomize' # <_frozen_importlib_external.SourceFileLoader object at 0x7f0475c3f940>\n",
            "import 'site' # <_frozen_importlib_external.SourceFileLoader object at 0x7f0475dea710>\n",
            "Python 3.6.9 (default, Nov  7 2019, 10:44:02) \n",
            "[GCC 8.3.0] on linux\n",
            "Type \"help\", \"copyright\", \"credits\" or \"license\" for more information.\n",
            "# extension module 'readline' loaded from '/usr/lib/python3.6/lib-dynload/readline.cpython-36m-x86_64-linux-gnu.so'\n",
            "# extension module 'readline' executed from '/usr/lib/python3.6/lib-dynload/readline.cpython-36m-x86_64-linux-gnu.so'\n",
            "import 'readline' # <_frozen_importlib_external.ExtensionFileLoader object at 0x7f0475c3f9b0>\n",
            "import 'atexit' # <class '_frozen_importlib.BuiltinImporter'>\n",
            "# /usr/lib/python3.6/__pycache__/rlcompleter.cpython-36.pyc matches /usr/lib/python3.6/rlcompleter.py\n",
            "# code object from '/usr/lib/python3.6/__pycache__/rlcompleter.cpython-36.pyc'\n",
            "import 'rlcompleter' # <_frozen_importlib_external.SourceFileLoader object at 0x7f0475c3fd30>\n",
            ">>> "
          ],
          "name": "stdout"
        }
      ]
    },
    {
      "cell_type": "code",
      "metadata": {
        "trusted": true,
        "id": "AA2bgssjg4Ql",
        "colab_type": "code",
        "colab": {
          "base_uri": "https://localhost:8080/",
          "height": 442
        },
        "outputId": "67155bd2-b909-4d11-bd98-6fc61aceb12a"
      },
      "source": [
        "!pip install --upgrade geopandas\n",
        "import geopandas as gpd"
      ],
      "execution_count": 2,
      "outputs": [
        {
          "output_type": "stream",
          "text": [
            "Collecting geopandas\n",
            "\u001b[?25l  Downloading https://files.pythonhosted.org/packages/52/4f/6440a63c9367d981a91de458467eed4a8e259a26f24158071b610a1ed1dd/geopandas-0.6.3-py2.py3-none-any.whl (920kB)\n",
            "\u001b[K     |████████████████████████████████| 921kB 3.3MB/s \n",
            "\u001b[?25hRequirement already satisfied, skipping upgrade: pandas>=0.23.0 in /usr/local/lib/python3.6/dist-packages (from geopandas) (0.25.3)\n",
            "Requirement already satisfied, skipping upgrade: shapely in /usr/local/lib/python3.6/dist-packages (from geopandas) (1.7.0)\n",
            "Collecting fiona\n",
            "\u001b[?25l  Downloading https://files.pythonhosted.org/packages/50/f7/9899f8a9a2e38601472fe1079ce5088f58833221c8b8507d8b5eafd5404a/Fiona-1.8.13-cp36-cp36m-manylinux1_x86_64.whl (11.8MB)\n",
            "\u001b[K     |████████████████████████████████| 11.8MB 13.6MB/s \n",
            "\u001b[?25hCollecting pyproj\n",
            "\u001b[?25l  Downloading https://files.pythonhosted.org/packages/d6/70/eedc98cd52b86de24a1589c762612a98bea26cde649ffdd60c1db396cce8/pyproj-2.4.2.post1-cp36-cp36m-manylinux2010_x86_64.whl (10.1MB)\n",
            "\u001b[K     |████████████████████████████████| 10.1MB 40.3MB/s \n",
            "\u001b[?25hRequirement already satisfied, skipping upgrade: numpy>=1.13.3 in /usr/local/lib/python3.6/dist-packages (from pandas>=0.23.0->geopandas) (1.17.5)\n",
            "Requirement already satisfied, skipping upgrade: pytz>=2017.2 in /usr/local/lib/python3.6/dist-packages (from pandas>=0.23.0->geopandas) (2018.9)\n",
            "Requirement already satisfied, skipping upgrade: python-dateutil>=2.6.1 in /usr/local/lib/python3.6/dist-packages (from pandas>=0.23.0->geopandas) (2.6.1)\n",
            "Collecting cligj>=0.5\n",
            "  Downloading https://files.pythonhosted.org/packages/e4/be/30a58b4b0733850280d01f8bd132591b4668ed5c7046761098d665ac2174/cligj-0.5.0-py3-none-any.whl\n",
            "Collecting munch\n",
            "  Downloading https://files.pythonhosted.org/packages/cc/ab/85d8da5c9a45e072301beb37ad7f833cd344e04c817d97e0cc75681d248f/munch-2.5.0-py2.py3-none-any.whl\n",
            "Requirement already satisfied, skipping upgrade: six>=1.7 in /usr/local/lib/python3.6/dist-packages (from fiona->geopandas) (1.12.0)\n",
            "Collecting click-plugins>=1.0\n",
            "  Downloading https://files.pythonhosted.org/packages/e9/da/824b92d9942f4e472702488857914bdd50f73021efea15b4cad9aca8ecef/click_plugins-1.1.1-py2.py3-none-any.whl\n",
            "Requirement already satisfied, skipping upgrade: click<8,>=4.0 in /usr/local/lib/python3.6/dist-packages (from fiona->geopandas) (7.0)\n",
            "Requirement already satisfied, skipping upgrade: attrs>=17 in /usr/local/lib/python3.6/dist-packages (from fiona->geopandas) (19.3.0)\n",
            "Installing collected packages: cligj, munch, click-plugins, fiona, pyproj, geopandas\n",
            "Successfully installed click-plugins-1.1.1 cligj-0.5.0 fiona-1.8.13 geopandas-0.6.3 munch-2.5.0 pyproj-2.4.2.post1\n"
          ],
          "name": "stdout"
        }
      ]
    },
    {
      "cell_type": "markdown",
      "metadata": {
        "id": "w1Ob96D-g4Qo",
        "colab_type": "text"
      },
      "source": [
        "Il existe de très nombreux formats de fichiers géospatiaux, tels que [shapefile](https://en.wikipedia.org/wiki/Shapefile), [GeoJSON](https://en.wikipedia.org/wiki/GeoJSON), [KML](https://en.wikipedia.org/wiki/Keyhole_Markup_Language) et [GPKG](https://en.wikipedia.org/wiki/GeoPackage). \n",
        "\n",
        "Nous ne discuterons pas de leurs différences ici, mais il est important de rappeler que: \n",
        "- shapefile (fichier de formes) est le type de fichier le plus courant  \n",
        "- tous ces types de fichiers peuvent être rapidement chargés avec la fonction 'gpd.read_file()' . \n",
        "\n",
        "La cellule de code suivante charge un shapefile contenant des informations sur les forêts, les zones sauvages et d'autres endroits,\n",
        "sous gestion du [Département de la conservation de l'environnement](https://www.dec.ny.gov/index.html) dans l'état de New York.\n"
      ]
    },
    {
      "cell_type": "code",
      "metadata": {
        "id": "DRqzno4Ix8jt",
        "colab_type": "code",
        "colab": {
          "resources": {
            "http://localhost:8080/nbextensions/google.colab/files.js": {
              "data": "Ly8gQ29weXJpZ2h0IDIwMTcgR29vZ2xlIExMQwovLwovLyBMaWNlbnNlZCB1bmRlciB0aGUgQXBhY2hlIExpY2Vuc2UsIFZlcnNpb24gMi4wICh0aGUgIkxpY2Vuc2UiKTsKLy8geW91IG1heSBub3QgdXNlIHRoaXMgZmlsZSBleGNlcHQgaW4gY29tcGxpYW5jZSB3aXRoIHRoZSBMaWNlbnNlLgovLyBZb3UgbWF5IG9idGFpbiBhIGNvcHkgb2YgdGhlIExpY2Vuc2UgYXQKLy8KLy8gICAgICBodHRwOi8vd3d3LmFwYWNoZS5vcmcvbGljZW5zZXMvTElDRU5TRS0yLjAKLy8KLy8gVW5sZXNzIHJlcXVpcmVkIGJ5IGFwcGxpY2FibGUgbGF3IG9yIGFncmVlZCB0byBpbiB3cml0aW5nLCBzb2Z0d2FyZQovLyBkaXN0cmlidXRlZCB1bmRlciB0aGUgTGljZW5zZSBpcyBkaXN0cmlidXRlZCBvbiBhbiAiQVMgSVMiIEJBU0lTLAovLyBXSVRIT1VUIFdBUlJBTlRJRVMgT1IgQ09ORElUSU9OUyBPRiBBTlkgS0lORCwgZWl0aGVyIGV4cHJlc3Mgb3IgaW1wbGllZC4KLy8gU2VlIHRoZSBMaWNlbnNlIGZvciB0aGUgc3BlY2lmaWMgbGFuZ3VhZ2UgZ292ZXJuaW5nIHBlcm1pc3Npb25zIGFuZAovLyBsaW1pdGF0aW9ucyB1bmRlciB0aGUgTGljZW5zZS4KCi8qKgogKiBAZmlsZW92ZXJ2aWV3IEhlbHBlcnMgZm9yIGdvb2dsZS5jb2xhYiBQeXRob24gbW9kdWxlLgogKi8KKGZ1bmN0aW9uKHNjb3BlKSB7CmZ1bmN0aW9uIHNwYW4odGV4dCwgc3R5bGVBdHRyaWJ1dGVzID0ge30pIHsKICBjb25zdCBlbGVtZW50ID0gZG9jdW1lbnQuY3JlYXRlRWxlbWVudCgnc3BhbicpOwogIGVsZW1lbnQudGV4dENvbnRlbnQgPSB0ZXh0OwogIGZvciAoY29uc3Qga2V5IG9mIE9iamVjdC5rZXlzKHN0eWxlQXR0cmlidXRlcykpIHsKICAgIGVsZW1lbnQuc3R5bGVba2V5XSA9IHN0eWxlQXR0cmlidXRlc1trZXldOwogIH0KICByZXR1cm4gZWxlbWVudDsKfQoKLy8gTWF4IG51bWJlciBvZiBieXRlcyB3aGljaCB3aWxsIGJlIHVwbG9hZGVkIGF0IGEgdGltZS4KY29uc3QgTUFYX1BBWUxPQURfU0laRSA9IDEwMCAqIDEwMjQ7Ci8vIE1heCBhbW91bnQgb2YgdGltZSB0byBibG9jayB3YWl0aW5nIGZvciB0aGUgdXNlci4KY29uc3QgRklMRV9DSEFOR0VfVElNRU9VVF9NUyA9IDMwICogMTAwMDsKCmZ1bmN0aW9uIF91cGxvYWRGaWxlcyhpbnB1dElkLCBvdXRwdXRJZCkgewogIGNvbnN0IHN0ZXBzID0gdXBsb2FkRmlsZXNTdGVwKGlucHV0SWQsIG91dHB1dElkKTsKICBjb25zdCBvdXRwdXRFbGVtZW50ID0gZG9jdW1lbnQuZ2V0RWxlbWVudEJ5SWQob3V0cHV0SWQpOwogIC8vIENhY2hlIHN0ZXBzIG9uIHRoZSBvdXRwdXRFbGVtZW50IHRvIG1ha2UgaXQgYXZhaWxhYmxlIGZvciB0aGUgbmV4dCBjYWxsCiAgLy8gdG8gdXBsb2FkRmlsZXNDb250aW51ZSBmcm9tIFB5dGhvbi4KICBvdXRwdXRFbGVtZW50LnN0ZXBzID0gc3RlcHM7CgogIHJldHVybiBfdXBsb2FkRmlsZXNDb250aW51ZShvdXRwdXRJZCk7Cn0KCi8vIFRoaXMgaXMgcm91Z2hseSBhbiBhc3luYyBnZW5lcmF0b3IgKG5vdCBzdXBwb3J0ZWQgaW4gdGhlIGJyb3dzZXIgeWV0KSwKLy8gd2hlcmUgdGhlcmUgYXJlIG11bHRpcGxlIGFzeW5jaHJvbm91cyBzdGVwcyBhbmQgdGhlIFB5dGhvbiBzaWRlIGlzIGdvaW5nCi8vIHRvIHBvbGwgZm9yIGNvbXBsZXRpb24gb2YgZWFjaCBzdGVwLgovLyBUaGlzIHVzZXMgYSBQcm9taXNlIHRvIGJsb2NrIHRoZSBweXRob24gc2lkZSBvbiBjb21wbGV0aW9uIG9mIGVhY2ggc3RlcCwKLy8gdGhlbiBwYXNzZXMgdGhlIHJlc3VsdCBvZiB0aGUgcHJldmlvdXMgc3RlcCBhcyB0aGUgaW5wdXQgdG8gdGhlIG5leHQgc3RlcC4KZnVuY3Rpb24gX3VwbG9hZEZpbGVzQ29udGludWUob3V0cHV0SWQpIHsKICBjb25zdCBvdXRwdXRFbGVtZW50ID0gZG9jdW1lbnQuZ2V0RWxlbWVudEJ5SWQob3V0cHV0SWQpOwogIGNvbnN0IHN0ZXBzID0gb3V0cHV0RWxlbWVudC5zdGVwczsKCiAgY29uc3QgbmV4dCA9IHN0ZXBzLm5leHQob3V0cHV0RWxlbWVudC5sYXN0UHJvbWlzZVZhbHVlKTsKICByZXR1cm4gUHJvbWlzZS5yZXNvbHZlKG5leHQudmFsdWUucHJvbWlzZSkudGhlbigodmFsdWUpID0+IHsKICAgIC8vIENhY2hlIHRoZSBsYXN0IHByb21pc2UgdmFsdWUgdG8gbWFrZSBpdCBhdmFpbGFibGUgdG8gdGhlIG5leHQKICAgIC8vIHN0ZXAgb2YgdGhlIGdlbmVyYXRvci4KICAgIG91dHB1dEVsZW1lbnQubGFzdFByb21pc2VWYWx1ZSA9IHZhbHVlOwogICAgcmV0dXJuIG5leHQudmFsdWUucmVzcG9uc2U7CiAgfSk7Cn0KCi8qKgogKiBHZW5lcmF0b3IgZnVuY3Rpb24gd2hpY2ggaXMgY2FsbGVkIGJldHdlZW4gZWFjaCBhc3luYyBzdGVwIG9mIHRoZSB1cGxvYWQKICogcHJvY2Vzcy4KICogQHBhcmFtIHtzdHJpbmd9IGlucHV0SWQgRWxlbWVudCBJRCBvZiB0aGUgaW5wdXQgZmlsZSBwaWNrZXIgZWxlbWVudC4KICogQHBhcmFtIHtzdHJpbmd9IG91dHB1dElkIEVsZW1lbnQgSUQgb2YgdGhlIG91dHB1dCBkaXNwbGF5LgogKiBAcmV0dXJuIHshSXRlcmFibGU8IU9iamVjdD59IEl0ZXJhYmxlIG9mIG5leHQgc3RlcHMuCiAqLwpmdW5jdGlvbiogdXBsb2FkRmlsZXNTdGVwKGlucHV0SWQsIG91dHB1dElkKSB7CiAgY29uc3QgaW5wdXRFbGVtZW50ID0gZG9jdW1lbnQuZ2V0RWxlbWVudEJ5SWQoaW5wdXRJZCk7CiAgaW5wdXRFbGVtZW50LmRpc2FibGVkID0gZmFsc2U7CgogIGNvbnN0IG91dHB1dEVsZW1lbnQgPSBkb2N1bWVudC5nZXRFbGVtZW50QnlJZChvdXRwdXRJZCk7CiAgb3V0cHV0RWxlbWVudC5pbm5lckhUTUwgPSAnJzsKCiAgY29uc3QgcGlja2VkUHJvbWlzZSA9IG5ldyBQcm9taXNlKChyZXNvbHZlKSA9PiB7CiAgICBpbnB1dEVsZW1lbnQuYWRkRXZlbnRMaXN0ZW5lcignY2hhbmdlJywgKGUpID0+IHsKICAgICAgcmVzb2x2ZShlLnRhcmdldC5maWxlcyk7CiAgICB9KTsKICB9KTsKCiAgY29uc3QgY2FuY2VsID0gZG9jdW1lbnQuY3JlYXRlRWxlbWVudCgnYnV0dG9uJyk7CiAgaW5wdXRFbGVtZW50LnBhcmVudEVsZW1lbnQuYXBwZW5kQ2hpbGQoY2FuY2VsKTsKICBjYW5jZWwudGV4dENvbnRlbnQgPSAnQ2FuY2VsIHVwbG9hZCc7CiAgY29uc3QgY2FuY2VsUHJvbWlzZSA9IG5ldyBQcm9taXNlKChyZXNvbHZlKSA9PiB7CiAgICBjYW5jZWwub25jbGljayA9ICgpID0+IHsKICAgICAgcmVzb2x2ZShudWxsKTsKICAgIH07CiAgfSk7CgogIC8vIENhbmNlbCB1cGxvYWQgaWYgdXNlciBoYXNuJ3QgcGlja2VkIGFueXRoaW5nIGluIHRpbWVvdXQuCiAgY29uc3QgdGltZW91dFByb21pc2UgPSBuZXcgUHJvbWlzZSgocmVzb2x2ZSkgPT4gewogICAgc2V0VGltZW91dCgoKSA9PiB7CiAgICAgIHJlc29sdmUobnVsbCk7CiAgICB9LCBGSUxFX0NIQU5HRV9USU1FT1VUX01TKTsKICB9KTsKCiAgLy8gV2FpdCBmb3IgdGhlIHVzZXIgdG8gcGljayB0aGUgZmlsZXMuCiAgY29uc3QgZmlsZXMgPSB5aWVsZCB7CiAgICBwcm9taXNlOiBQcm9taXNlLnJhY2UoW3BpY2tlZFByb21pc2UsIHRpbWVvdXRQcm9taXNlLCBjYW5jZWxQcm9taXNlXSksCiAgICByZXNwb25zZTogewogICAgICBhY3Rpb246ICdzdGFydGluZycsCiAgICB9CiAgfTsKCiAgaWYgKCFmaWxlcykgewogICAgcmV0dXJuIHsKICAgICAgcmVzcG9uc2U6IHsKICAgICAgICBhY3Rpb246ICdjb21wbGV0ZScsCiAgICAgIH0KICAgIH07CiAgfQoKICBjYW5jZWwucmVtb3ZlKCk7CgogIC8vIERpc2FibGUgdGhlIGlucHV0IGVsZW1lbnQgc2luY2UgZnVydGhlciBwaWNrcyBhcmUgbm90IGFsbG93ZWQuCiAgaW5wdXRFbGVtZW50LmRpc2FibGVkID0gdHJ1ZTsKCiAgZm9yIChjb25zdCBmaWxlIG9mIGZpbGVzKSB7CiAgICBjb25zdCBsaSA9IGRvY3VtZW50LmNyZWF0ZUVsZW1lbnQoJ2xpJyk7CiAgICBsaS5hcHBlbmQoc3BhbihmaWxlLm5hbWUsIHtmb250V2VpZ2h0OiAnYm9sZCd9KSk7CiAgICBsaS5hcHBlbmQoc3BhbigKICAgICAgICBgKCR7ZmlsZS50eXBlIHx8ICduL2EnfSkgLSAke2ZpbGUuc2l6ZX0gYnl0ZXMsIGAgKwogICAgICAgIGBsYXN0IG1vZGlmaWVkOiAkewogICAgICAgICAgICBmaWxlLmxhc3RNb2RpZmllZERhdGUgPyBmaWxlLmxhc3RNb2RpZmllZERhdGUudG9Mb2NhbGVEYXRlU3RyaW5nKCkgOgogICAgICAgICAgICAgICAgICAgICAgICAgICAgICAgICAgICAnbi9hJ30gLSBgKSk7CiAgICBjb25zdCBwZXJjZW50ID0gc3BhbignMCUgZG9uZScpOwogICAgbGkuYXBwZW5kQ2hpbGQocGVyY2VudCk7CgogICAgb3V0cHV0RWxlbWVudC5hcHBlbmRDaGlsZChsaSk7CgogICAgY29uc3QgZmlsZURhdGFQcm9taXNlID0gbmV3IFByb21pc2UoKHJlc29sdmUpID0+IHsKICAgICAgY29uc3QgcmVhZGVyID0gbmV3IEZpbGVSZWFkZXIoKTsKICAgICAgcmVhZGVyLm9ubG9hZCA9IChlKSA9PiB7CiAgICAgICAgcmVzb2x2ZShlLnRhcmdldC5yZXN1bHQpOwogICAgICB9OwogICAgICByZWFkZXIucmVhZEFzQXJyYXlCdWZmZXIoZmlsZSk7CiAgICB9KTsKICAgIC8vIFdhaXQgZm9yIHRoZSBkYXRhIHRvIGJlIHJlYWR5LgogICAgbGV0IGZpbGVEYXRhID0geWllbGQgewogICAgICBwcm9taXNlOiBmaWxlRGF0YVByb21pc2UsCiAgICAgIHJlc3BvbnNlOiB7CiAgICAgICAgYWN0aW9uOiAnY29udGludWUnLAogICAgICB9CiAgICB9OwoKICAgIC8vIFVzZSBhIGNodW5rZWQgc2VuZGluZyB0byBhdm9pZCBtZXNzYWdlIHNpemUgbGltaXRzLiBTZWUgYi82MjExNTY2MC4KICAgIGxldCBwb3NpdGlvbiA9IDA7CiAgICB3aGlsZSAocG9zaXRpb24gPCBmaWxlRGF0YS5ieXRlTGVuZ3RoKSB7CiAgICAgIGNvbnN0IGxlbmd0aCA9IE1hdGgubWluKGZpbGVEYXRhLmJ5dGVMZW5ndGggLSBwb3NpdGlvbiwgTUFYX1BBWUxPQURfU0laRSk7CiAgICAgIGNvbnN0IGNodW5rID0gbmV3IFVpbnQ4QXJyYXkoZmlsZURhdGEsIHBvc2l0aW9uLCBsZW5ndGgpOwogICAgICBwb3NpdGlvbiArPSBsZW5ndGg7CgogICAgICBjb25zdCBiYXNlNjQgPSBidG9hKFN0cmluZy5mcm9tQ2hhckNvZGUuYXBwbHkobnVsbCwgY2h1bmspKTsKICAgICAgeWllbGQgewogICAgICAgIHJlc3BvbnNlOiB7CiAgICAgICAgICBhY3Rpb246ICdhcHBlbmQnLAogICAgICAgICAgZmlsZTogZmlsZS5uYW1lLAogICAgICAgICAgZGF0YTogYmFzZTY0LAogICAgICAgIH0sCiAgICAgIH07CiAgICAgIHBlcmNlbnQudGV4dENvbnRlbnQgPQogICAgICAgICAgYCR7TWF0aC5yb3VuZCgocG9zaXRpb24gLyBmaWxlRGF0YS5ieXRlTGVuZ3RoKSAqIDEwMCl9JSBkb25lYDsKICAgIH0KICB9CgogIC8vIEFsbCBkb25lLgogIHlpZWxkIHsKICAgIHJlc3BvbnNlOiB7CiAgICAgIGFjdGlvbjogJ2NvbXBsZXRlJywKICAgIH0KICB9Owp9CgpzY29wZS5nb29nbGUgPSBzY29wZS5nb29nbGUgfHwge307CnNjb3BlLmdvb2dsZS5jb2xhYiA9IHNjb3BlLmdvb2dsZS5jb2xhYiB8fCB7fTsKc2NvcGUuZ29vZ2xlLmNvbGFiLl9maWxlcyA9IHsKICBfdXBsb2FkRmlsZXMsCiAgX3VwbG9hZEZpbGVzQ29udGludWUsCn07Cn0pKHNlbGYpOwo=",
              "ok": true,
              "headers": [
                [
                  "content-type",
                  "application/javascript"
                ]
              ],
              "status": 200,
              "status_text": ""
            }
          },
          "base_uri": "https://localhost:8080/",
          "height": 346
        },
        "outputId": "be7fa914-0241-49da-c3c4-8ad3549f798f"
      },
      "source": [
        "# Ici on va récupérer les fichiers précis DEC_lands*.* sur le poste local et l'uploader ensuite dans /content sur google colaboratory \n",
        "# Décommentez ci-dessous pour refaire l'upload :\n",
        "from google.colab import files\n",
        "files.upload()\n",
        "%ls"
      ],
      "execution_count": 5,
      "outputs": [
        {
          "output_type": "display_data",
          "data": {
            "text/html": [
              "\n",
              "     <input type=\"file\" id=\"files-36221841-b5c9-4e52-82cf-f4048bfcadd0\" name=\"files[]\" multiple disabled />\n",
              "     <output id=\"result-36221841-b5c9-4e52-82cf-f4048bfcadd0\">\n",
              "      Upload widget is only available when the cell has been executed in the\n",
              "      current browser session. Please rerun this cell to enable.\n",
              "      </output>\n",
              "      <script src=\"/nbextensions/google.colab/files.js\"></script> "
            ],
            "text/plain": [
              "<IPython.core.display.HTML object>"
            ]
          },
          "metadata": {
            "tags": []
          }
        },
        {
          "output_type": "stream",
          "text": [
            "Saving DEC_lands.cpg to DEC_lands.cpg\n",
            "Saving DEC_lands.dbf to DEC_lands.dbf\n",
            "Saving DEC_Lands.html to DEC_Lands.html\n",
            "Saving DEC_lands.prj to DEC_lands.prj\n",
            "Saving DEC_lands.sbn to DEC_lands.sbn\n",
            "Saving DEC_lands.sbx to DEC_lands.sbx\n",
            "Saving DEC_lands.shp.xml to DEC_lands.shp.xml\n",
            "Saving DEC_lands.shx to DEC_lands.shx\n",
            "DEC_lands.cpg  DEC_Lands.html  DEC_lands.sbn  DEC_lands.shp      DEC_lands.shx\n",
            "DEC_lands.dbf  DEC_lands.prj   DEC_lands.sbx  DEC_lands.shp.xml  \u001b[0m\u001b[01;34msample_data\u001b[0m/\n"
          ],
          "name": "stdout"
        }
      ]
    },
    {
      "cell_type": "code",
      "metadata": {
        "trusted": true,
        "id": "ZtxFP6Gqg4Qp",
        "colab_type": "code",
        "colab": {
          "base_uri": "https://localhost:8080/",
          "height": 289
        },
        "outputId": "db773a68-81ee-4eb2-f75c-7174df2ddf10"
      },
      "source": [
        "# Lecture des données\n",
        "full_data = gpd.read_file(\"DEC_lands.shp\")\n",
        "\n",
        "# Affichons les 5 premières lignes du fichier de données\n",
        "full_data.head()"
      ],
      "execution_count": 6,
      "outputs": [
        {
          "output_type": "execute_result",
          "data": {
            "text/html": [
              "<div>\n",
              "<style scoped>\n",
              "    .dataframe tbody tr th:only-of-type {\n",
              "        vertical-align: middle;\n",
              "    }\n",
              "\n",
              "    .dataframe tbody tr th {\n",
              "        vertical-align: top;\n",
              "    }\n",
              "\n",
              "    .dataframe thead th {\n",
              "        text-align: right;\n",
              "    }\n",
              "</style>\n",
              "<table border=\"1\" class=\"dataframe\">\n",
              "  <thead>\n",
              "    <tr style=\"text-align: right;\">\n",
              "      <th></th>\n",
              "      <th>OBJECTID</th>\n",
              "      <th>CATEGORY</th>\n",
              "      <th>UNIT</th>\n",
              "      <th>FACILITY</th>\n",
              "      <th>CLASS</th>\n",
              "      <th>UMP</th>\n",
              "      <th>DESCRIPTIO</th>\n",
              "      <th>REGION</th>\n",
              "      <th>COUNTY</th>\n",
              "      <th>URL</th>\n",
              "      <th>SOURCE</th>\n",
              "      <th>UPDATE_</th>\n",
              "      <th>OFFICE</th>\n",
              "      <th>ACRES</th>\n",
              "      <th>LANDS_UID</th>\n",
              "      <th>GREENCERT</th>\n",
              "      <th>SHAPE_AREA</th>\n",
              "      <th>SHAPE_LEN</th>\n",
              "      <th>geometry</th>\n",
              "    </tr>\n",
              "  </thead>\n",
              "  <tbody>\n",
              "    <tr>\n",
              "      <th>0</th>\n",
              "      <td>1</td>\n",
              "      <td>FOR PRES DET PAR</td>\n",
              "      <td>CFP</td>\n",
              "      <td>HANCOCK FP DETACHED PARCEL</td>\n",
              "      <td>WILD FOREST</td>\n",
              "      <td>None</td>\n",
              "      <td>DELAWARE COUNTY DETACHED PARCEL</td>\n",
              "      <td>4</td>\n",
              "      <td>DELAWARE</td>\n",
              "      <td>http://www.dec.ny.gov/</td>\n",
              "      <td>DELAWARE RPP</td>\n",
              "      <td>5/12</td>\n",
              "      <td>STAMFORD</td>\n",
              "      <td>738.620192</td>\n",
              "      <td>103</td>\n",
              "      <td>N</td>\n",
              "      <td>2.990365e+06</td>\n",
              "      <td>7927.662385</td>\n",
              "      <td>POLYGON ((486093.245 4635308.586, 486787.235 4...</td>\n",
              "    </tr>\n",
              "    <tr>\n",
              "      <th>1</th>\n",
              "      <td>2</td>\n",
              "      <td>FOR PRES DET PAR</td>\n",
              "      <td>CFP</td>\n",
              "      <td>HANCOCK FP DETACHED PARCEL</td>\n",
              "      <td>WILD FOREST</td>\n",
              "      <td>None</td>\n",
              "      <td>DELAWARE COUNTY DETACHED PARCEL</td>\n",
              "      <td>4</td>\n",
              "      <td>DELAWARE</td>\n",
              "      <td>http://www.dec.ny.gov/</td>\n",
              "      <td>DELAWARE RPP</td>\n",
              "      <td>5/12</td>\n",
              "      <td>STAMFORD</td>\n",
              "      <td>282.553140</td>\n",
              "      <td>1218</td>\n",
              "      <td>N</td>\n",
              "      <td>1.143940e+06</td>\n",
              "      <td>4776.375600</td>\n",
              "      <td>POLYGON ((491931.514 4637416.256, 491305.424 4...</td>\n",
              "    </tr>\n",
              "    <tr>\n",
              "      <th>2</th>\n",
              "      <td>3</td>\n",
              "      <td>FOR PRES DET PAR</td>\n",
              "      <td>CFP</td>\n",
              "      <td>HANCOCK FP DETACHED PARCEL</td>\n",
              "      <td>WILD FOREST</td>\n",
              "      <td>None</td>\n",
              "      <td>DELAWARE COUNTY DETACHED PARCEL</td>\n",
              "      <td>4</td>\n",
              "      <td>DELAWARE</td>\n",
              "      <td>http://www.dec.ny.gov/</td>\n",
              "      <td>DELAWARE RPP</td>\n",
              "      <td>5/12</td>\n",
              "      <td>STAMFORD</td>\n",
              "      <td>234.291262</td>\n",
              "      <td>1780</td>\n",
              "      <td>N</td>\n",
              "      <td>9.485476e+05</td>\n",
              "      <td>5783.070364</td>\n",
              "      <td>POLYGON ((486000.287 4635834.453, 485007.550 4...</td>\n",
              "    </tr>\n",
              "    <tr>\n",
              "      <th>3</th>\n",
              "      <td>4</td>\n",
              "      <td>FOR PRES DET PAR</td>\n",
              "      <td>CFP</td>\n",
              "      <td>GREENE COUNTY FP DETACHED PARCEL</td>\n",
              "      <td>WILD FOREST</td>\n",
              "      <td>None</td>\n",
              "      <td>None</td>\n",
              "      <td>4</td>\n",
              "      <td>GREENE</td>\n",
              "      <td>http://www.dec.ny.gov/</td>\n",
              "      <td>GREENE RPP</td>\n",
              "      <td>5/12</td>\n",
              "      <td>STAMFORD</td>\n",
              "      <td>450.106464</td>\n",
              "      <td>2060</td>\n",
              "      <td>N</td>\n",
              "      <td>1.822293e+06</td>\n",
              "      <td>7021.644833</td>\n",
              "      <td>POLYGON ((541716.775 4675243.268, 541217.579 4...</td>\n",
              "    </tr>\n",
              "    <tr>\n",
              "      <th>4</th>\n",
              "      <td>6</td>\n",
              "      <td>FOREST PRESERVE</td>\n",
              "      <td>AFP</td>\n",
              "      <td>SARANAC LAKES WILD FOREST</td>\n",
              "      <td>WILD FOREST</td>\n",
              "      <td>SARANAC LAKES</td>\n",
              "      <td>None</td>\n",
              "      <td>5</td>\n",
              "      <td>ESSEX</td>\n",
              "      <td>http://www.dec.ny.gov/lands/22593.html</td>\n",
              "      <td>DECRP, ESSEX RPP</td>\n",
              "      <td>12/96</td>\n",
              "      <td>RAY BROOK</td>\n",
              "      <td>69.702387</td>\n",
              "      <td>1517</td>\n",
              "      <td>N</td>\n",
              "      <td>2.821959e+05</td>\n",
              "      <td>2663.909932</td>\n",
              "      <td>POLYGON ((583896.043 4909643.187, 583891.200 4...</td>\n",
              "    </tr>\n",
              "  </tbody>\n",
              "</table>\n",
              "</div>"
            ],
            "text/plain": [
              "   OBJECTID  ...                                           geometry\n",
              "0         1  ...  POLYGON ((486093.245 4635308.586, 486787.235 4...\n",
              "1         2  ...  POLYGON ((491931.514 4637416.256, 491305.424 4...\n",
              "2         3  ...  POLYGON ((486000.287 4635834.453, 485007.550 4...\n",
              "3         4  ...  POLYGON ((541716.775 4675243.268, 541217.579 4...\n",
              "4         6  ...  POLYGON ((583896.043 4909643.187, 583891.200 4...\n",
              "\n",
              "[5 rows x 19 columns]"
            ]
          },
          "metadata": {
            "tags": []
          },
          "execution_count": 6
        }
      ]
    },
    {
      "cell_type": "markdown",
      "metadata": {
        "id": "VoDfUYoGg4Qs",
        "colab_type": "text"
      },
      "source": [
        "Comme vous pouvez le voir dans la colonne \"CLASS\", chacune des cinq premières lignes correspond à une forêt différente. \n",
        "Pour le reste du TP, imaginez que vous souhaitez utiliser ces données pour planifier un week-end en camping. \n",
        "\n",
        "Au lieu de vous fier aux avis en ligne provenant d'internet, vous décidez de créer votre propre carte. \n",
        "\n",
        "De cette façon, vous pouvez adapter le voyage à vos propres centre d'intérêts. \n",
        "\n",
        "# Prérequis\n",
        "Pour visualiser les cinq premières lignes des données, nous avons utilisé la méthode `head ()`. \n",
        "Vous vous souvenez peut-être que c'est ainsi que nous avions visualisés un DataFrame Pandas.\n",
        "\n",
        "En fait, chaque commande que vous lancerez sur un DataFrame s'appliquera aux données.\n",
        "En effet, les données ont été chargées dans un objet GeoPandas **GeoDataFrame** qui possède toutes les propritétés d'un DataFrame (Pandas)."
      ]
    },
    {
      "cell_type": "code",
      "metadata": {
        "trusted": true,
        "id": "Nr5Shathg4Qs",
        "colab_type": "code",
        "colab": {
          "base_uri": "https://localhost:8080/",
          "height": 34
        },
        "outputId": "aec33e99-013d-4415-bd13-4ecb7ed4f7bf"
      },
      "source": [
        "type(full_data)"
      ],
      "execution_count": 7,
      "outputs": [
        {
          "output_type": "execute_result",
          "data": {
            "text/plain": [
              "geopandas.geodataframe.GeoDataFrame"
            ]
          },
          "metadata": {
            "tags": []
          },
          "execution_count": 7
        }
      ]
    },
    {
      "cell_type": "markdown",
      "metadata": {
        "id": "PWEedHKOg4Qv",
        "colab_type": "text"
      },
      "source": [
        "Si nous n'avons pas besoin d'utiliser toutes les colonnes, nous pouvons donc sélectionner le sous-ensemble qui nous intéresse.\n",
        "\n",
        "(_Pour consulter d'autres méthodes de sélection des données, consultez [ce didacticiel] (https://www.kaggle.com/residentmario/indexing-selecting-assigning/) dans le micro-cours Pandas_.)"
      ]
    },
    {
      "cell_type": "code",
      "metadata": {
        "trusted": true,
        "id": "HT0Uhqh4g4Qw",
        "colab_type": "code",
        "colab": {}
      },
      "source": [
        "data = full_data.loc[:, [\"CLASS\", \"COUNTY\", \"geometry\"]].copy()"
      ],
      "execution_count": 0,
      "outputs": []
    },
    {
      "cell_type": "markdown",
      "metadata": {
        "id": "XyVUW5N6g4Qy",
        "colab_type": "text"
      },
      "source": [
        "Nous utilisons la méthode `value_counts()` pour voir une liste des différents types de terrains, ainsi que le nombre de fois où ils apparaissent dans le fichier. \n",
        "(_Pour approfondir ce point (et les méthodes associées), consultez [ce tutoriel] (https://www.kaggle.com/residentmario/summary-functions-and-maps) dans le micro-cours Pandas._)"
      ]
    },
    {
      "cell_type": "code",
      "metadata": {
        "trusted": true,
        "id": "Q8-7Rm2pg4Qz",
        "colab_type": "code",
        "colab": {
          "base_uri": "https://localhost:8080/",
          "height": 187
        },
        "outputId": "8afad605-8742-4d0d-f006-b7ebb97295fb"
      },
      "source": [
        "# Combien de sortes de terrains existe-t-il?\n",
        "data.CLASS.value_counts()"
      ],
      "execution_count": 10,
      "outputs": [
        {
          "output_type": "execute_result",
          "data": {
            "text/plain": [
              "WILD FOREST                   965\n",
              "INTENSIVE USE                 108\n",
              "PRIMITIVE                      60\n",
              "WILDERNESS                     52\n",
              "ADMINISTRATIVE                 17\n",
              "UNCLASSIFIED                    7\n",
              "HISTORIC                        5\n",
              "PRIMITIVE BICYCLE CORRIDOR      4\n",
              "CANOE AREA                      1\n",
              "Name: CLASS, dtype: int64"
            ]
          },
          "metadata": {
            "tags": []
          },
          "execution_count": 10
        }
      ]
    },
    {
      "cell_type": "markdown",
      "metadata": {
        "id": "K3E40evbg4Q1",
        "colab_type": "text"
      },
      "source": [
        "Vous pouvez également utiliser `loc` (et`iloc`) et `isin` pour sélectionner des sous-ensembles de données. \n",
        "(_Pour revoir cela, consultez [ce tutoriel](https://www.kaggle.com/residentmario/indexing-selecting-assigning/) du micro-cours Pandas._)"
      ]
    },
    {
      "cell_type": "code",
      "metadata": {
        "trusted": true,
        "id": "4i0Flgz-g4Q2",
        "colab_type": "code",
        "colab": {
          "base_uri": "https://localhost:8080/",
          "height": 204
        },
        "outputId": "de38ba2a-6a42-48a9-e3c8-ac2a5367c005"
      },
      "source": [
        "# Selectionnons les terrains de la catégorie \"WILD FOREST\" ou \"WILDERNESS\"\n",
        "wild_lands = data.loc[data.CLASS.isin(['WILD FOREST', 'WILDERNESS'])].copy()\n",
        "wild_lands.head()"
      ],
      "execution_count": 11,
      "outputs": [
        {
          "output_type": "execute_result",
          "data": {
            "text/html": [
              "<div>\n",
              "<style scoped>\n",
              "    .dataframe tbody tr th:only-of-type {\n",
              "        vertical-align: middle;\n",
              "    }\n",
              "\n",
              "    .dataframe tbody tr th {\n",
              "        vertical-align: top;\n",
              "    }\n",
              "\n",
              "    .dataframe thead th {\n",
              "        text-align: right;\n",
              "    }\n",
              "</style>\n",
              "<table border=\"1\" class=\"dataframe\">\n",
              "  <thead>\n",
              "    <tr style=\"text-align: right;\">\n",
              "      <th></th>\n",
              "      <th>CLASS</th>\n",
              "      <th>COUNTY</th>\n",
              "      <th>geometry</th>\n",
              "    </tr>\n",
              "  </thead>\n",
              "  <tbody>\n",
              "    <tr>\n",
              "      <th>0</th>\n",
              "      <td>WILD FOREST</td>\n",
              "      <td>DELAWARE</td>\n",
              "      <td>POLYGON ((486093.245 4635308.586, 486787.235 4...</td>\n",
              "    </tr>\n",
              "    <tr>\n",
              "      <th>1</th>\n",
              "      <td>WILD FOREST</td>\n",
              "      <td>DELAWARE</td>\n",
              "      <td>POLYGON ((491931.514 4637416.256, 491305.424 4...</td>\n",
              "    </tr>\n",
              "    <tr>\n",
              "      <th>2</th>\n",
              "      <td>WILD FOREST</td>\n",
              "      <td>DELAWARE</td>\n",
              "      <td>POLYGON ((486000.287 4635834.453, 485007.550 4...</td>\n",
              "    </tr>\n",
              "    <tr>\n",
              "      <th>3</th>\n",
              "      <td>WILD FOREST</td>\n",
              "      <td>GREENE</td>\n",
              "      <td>POLYGON ((541716.775 4675243.268, 541217.579 4...</td>\n",
              "    </tr>\n",
              "    <tr>\n",
              "      <th>4</th>\n",
              "      <td>WILD FOREST</td>\n",
              "      <td>ESSEX</td>\n",
              "      <td>POLYGON ((583896.043 4909643.187, 583891.200 4...</td>\n",
              "    </tr>\n",
              "  </tbody>\n",
              "</table>\n",
              "</div>"
            ],
            "text/plain": [
              "         CLASS    COUNTY                                           geometry\n",
              "0  WILD FOREST  DELAWARE  POLYGON ((486093.245 4635308.586, 486787.235 4...\n",
              "1  WILD FOREST  DELAWARE  POLYGON ((491931.514 4637416.256, 491305.424 4...\n",
              "2  WILD FOREST  DELAWARE  POLYGON ((486000.287 4635834.453, 485007.550 4...\n",
              "3  WILD FOREST    GREENE  POLYGON ((541716.775 4675243.268, 541217.579 4...\n",
              "4  WILD FOREST     ESSEX  POLYGON ((583896.043 4909643.187, 583891.200 4..."
            ]
          },
          "metadata": {
            "tags": []
          },
          "execution_count": 11
        }
      ]
    },
    {
      "cell_type": "markdown",
      "metadata": {
        "id": "Rw6ZTL4yg4Q4",
        "colab_type": "text"
      },
      "source": [
        "Si vous n'êtes pas familier avec les commandes ci-dessus, nous vous encourageons à mettre cette page en favori, \n",
        "afin de pouvoir rechercher les commandes selon vos besoins. \n",
        "(_Alternativement, vous pouvez suivre le [micro-cours Pandas] (https://www.kaggle.com/learn/pandas) ._) \n",
        "Nous utiliserons ces commandes tout au long de ce micro-cours pour comprendre et filtrer les données avant de créer des cartes .\n",
        "\n",
        "# Créez votre première carte!\n",
        "\n",
        "Nous pouvons visualiser rapidement les données avec la méthode `plot()`.\n"
      ]
    },
    {
      "cell_type": "code",
      "metadata": {
        "trusted": true,
        "id": "I-KrLEB7g4Q5",
        "colab_type": "code",
        "colab": {
          "base_uri": "https://localhost:8080/",
          "height": 282
        },
        "outputId": "382197d8-f9a0-4c7d-b8b4-bea7947f1c69"
      },
      "source": [
        "wild_lands.plot()"
      ],
      "execution_count": 12,
      "outputs": [
        {
          "output_type": "execute_result",
          "data": {
            "text/plain": [
              "<matplotlib.axes._subplots.AxesSubplot at 0x7ff313fcd940>"
            ]
          },
          "metadata": {
            "tags": []
          },
          "execution_count": 12
        },
        {
          "output_type": "display_data",
          "data": {
            "image/png": "[encoded data removed]",
            "text/plain": [
              "<Figure size 432x288 with 1 Axes>"
            ]
          },
          "metadata": {
            "tags": []
          }
        }
      ]
    },
    {
      "cell_type": "markdown",
      "metadata": {
        "id": "MlrHhAHEg4Q7",
        "colab_type": "text"
      },
      "source": [
        "Chaque GeoDataFrame contient une colonne spéciale : \"geométry\". \n",
        "Il contient tous les objets géométriques qui sont affichés lorsque nous appelons la méthode `plot()`."
      ]
    },
    {
      "cell_type": "code",
      "metadata": {
        "trusted": true,
        "id": "bozgOuWMg4Q8",
        "colab_type": "code",
        "colab": {
          "base_uri": "https://localhost:8080/",
          "height": 119
        },
        "outputId": "d2f22d3a-7fd7-4242-985f-78692ec0e948"
      },
      "source": [
        "# Affichons les 5 premères valeurs de la colonne \"geometry\" :\n",
        "wild_lands.geometry.head()"
      ],
      "execution_count": 13,
      "outputs": [
        {
          "output_type": "execute_result",
          "data": {
            "text/plain": [
              "0    POLYGON ((486093.245 4635308.586, 486787.235 4...\n",
              "1    POLYGON ((491931.514 4637416.256, 491305.424 4...\n",
              "2    POLYGON ((486000.287 4635834.453, 485007.550 4...\n",
              "3    POLYGON ((541716.775 4675243.268, 541217.579 4...\n",
              "4    POLYGON ((583896.043 4909643.187, 583891.200 4...\n",
              "Name: geometry, dtype: geometry"
            ]
          },
          "metadata": {
            "tags": []
          },
          "execution_count": 13
        }
      ]
    },
    {
      "cell_type": "markdown",
      "metadata": {
        "id": "EIIuBPBAg4Q-",
        "colab_type": "text"
      },
      "source": [
        "Bien que cette colonne puisse contenir plusieurs types de données différents, chaque entrée sera généralement un **Point**, une ligne  **LineString**, ou un polygone **Polygon**.\n",
        "\n",
        "![](https://i.imgur.com/N1llefr.png)\n",
        "\n",
        "La colonne \"geometry\" de notre fichier contient 2983 objets Polygones différents, chacun correspondant à une forme différente dans le graphique ci-dessus.\n",
        "\n",
        "Dans la cellule de code ci-dessous, nous créons trois GeoDataFrames supplémentaires, contenant les emplacements de camping (**Point**), les sentiers pédestres (**LineString**) et les limites du comté (**Polygon**)."
      ]
    },
    {
      "cell_type": "code",
      "metadata": {
        "id": "lejU7_LdzOdc",
        "colab_type": "code",
        "colab": {
          "resources": {
            "http://localhost:8080/nbextensions/google.colab/files.js": {
              "data": "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",
              "ok": true,
              "headers": [
                [
                  "content-type",
                  "application/javascript"
                ]
              ],
              "status": 200,
              "status_text": ""
            }
          },
          "base_uri": "https://localhost:8080/",
          "height": 397
        },
        "outputId": "fa658fa1-b593-40cf-8616-5dfb2ec24eb7"
      },
      "source": [
        "# Ici on va récupérer les fichiers précis DEC_pointsinterest/*, DEC_roadstrails/* et NY_county_boundaries/* sur le poste local et l'uploader ensuite dans /content sur google colaboratory \n",
        "# Décommentez ci-dessous pour refaire l'upload :\n",
        "from google.colab import files\n",
        "files.upload()\n",
        "%ls"
      ],
      "execution_count": 18,
      "outputs": [
        {
          "output_type": "display_data",
          "data": {
            "text/html": [
              "\n",
              "     <input type=\"file\" id=\"files-9173135c-9f3b-4459-b01b-ee9f49b224e1\" name=\"files[]\" multiple disabled />\n",
              "     <output id=\"result-9173135c-9f3b-4459-b01b-ee9f49b224e1\">\n",
              "      Upload widget is only available when the cell has been executed in the\n",
              "      current browser session. Please rerun this cell to enable.\n",
              "      </output>\n",
              "      <script src=\"/nbextensions/google.colab/files.js\"></script> "
            ],
            "text/plain": [
              "<IPython.core.display.HTML object>"
            ]
          },
          "metadata": {
            "tags": []
          }
        },
        {
          "output_type": "stream",
          "text": [
            "Saving NY_county_boundaries.cpg to NY_county_boundaries.cpg\n",
            "Saving NY_county_boundaries.dbf to NY_county_boundaries.dbf\n",
            "Saving NY_county_boundaries.prj to NY_county_boundaries.prj\n",
            "Saving NY_county_boundaries.shp to NY_county_boundaries.shp\n",
            "Saving NY_county_boundaries.shx to NY_county_boundaries.shx\n",
            "DEC_lands.cpg           Decptsofinterest.dbf      Decroadstrails.sbn\n",
            "DEC_lands.dbf           Decptsofinterest.prj      Decroadstrails.sbx\n",
            "DEC_Lands.html          Decptsofinterest.sbn      Decroadstrails.shp\n",
            "DEC_lands.prj           Decptsofinterest.sbx      Decroadstrails.shp.xml\n",
            "DEC_lands.sbn           Decptsofinterest.shp      Decroadstrails.shx\n",
            "DEC_lands.sbx           Decptsofinterest.shp.xml  NY_county_boundaries.cpg\n",
            "DEC_lands.shp           Decptsofinterest.shx      NY_county_boundaries.dbf\n",
            "DEC_lands.shp.xml       Decroadstrails.CPG        NY_county_boundaries.prj\n",
            "DEC_lands.shx           Decroadstrails.dbf        NY_county_boundaries.shp\n",
            "DEC_pointsinterest.htm  DECroadstrails.html       NY_county_boundaries.shx\n",
            "Decptsofinterest.CPG    Decroadstrails.prj        \u001b[0m\u001b[01;34msample_data\u001b[0m/\n"
          ],
          "name": "stdout"
        }
      ]
    },
    {
      "cell_type": "code",
      "metadata": {
        "_kg_hide-input": false,
        "trusted": true,
        "id": "gAe_chtzg4Q_",
        "colab_type": "code",
        "colab": {}
      },
      "source": [
        "# Campings de l'état de New York state (Point)\n",
        "POI_data = gpd.read_file(\"Decptsofinterest.shp\")\n",
        "campsites = POI_data.loc[POI_data.ASSET=='PRIMITIVE CAMPSITE'].copy()\n",
        "\n",
        "# Sentiers pédestres de l'état de New York (LineString)\n",
        "roads_trails = gpd.read_file(\"Decroadstrails.shp\")\n",
        "trails = roads_trails.loc[roads_trails.ASSET=='FOOT TRAIL'].copy()\n",
        "\n",
        "# Limites du comté de l'état de New York state (Polygon)\n",
        "counties = gpd.read_file(\"NY_county_boundaries.shp\")"
      ],
      "execution_count": 0,
      "outputs": []
    },
    {
      "cell_type": "markdown",
      "metadata": {
        "id": "qI6vx95Wg4RB",
        "colab_type": "text"
      },
      "source": [
        "Ensuite, nous créons une carte à partir des quatre GeoDataFrames.\n",
        "\n",
        "La méthode `plot()` prend comme entrée (facultative) plusieurs paramètres qui peuvent être utilisés pour personnaliser l'apparence. \n",
        "\n",
        "Plus important encore, définir une valeur pour «ax» garantit que toutes les informations seront tracées sur la même carte."
      ]
    },
    {
      "cell_type": "code",
      "metadata": {
        "trusted": true,
        "id": "VgfC5sAqg4RB",
        "colab_type": "code",
        "colab": {
          "base_uri": "https://localhost:8080/",
          "height": 491
        },
        "outputId": "82303dfb-a39e-4c37-ba49-9e407036c7ef"
      },
      "source": [
        "# Définition de la carte de base avec les limites du comté\n",
        "ax = counties.plot(figsize=(10,10), color='none', edgecolor='gainsboro', zorder=3)\n",
        "\n",
        "# Ajoutons ensuite les terres sauvages, les campings et les sentiers pédestres à la carte de base\n",
        "wild_lands.plot(color='lightgreen', ax=ax)\n",
        "campsites.plot(color='maroon', markersize=2, ax=ax)\n",
        "trails.plot(color='black', markersize=1, ax=ax)"
      ],
      "execution_count": 21,
      "outputs": [
        {
          "output_type": "execute_result",
          "data": {
            "text/plain": [
              "<matplotlib.axes._subplots.AxesSubplot at 0x7ff313f41cf8>"
            ]
          },
          "metadata": {
            "tags": []
          },
          "execution_count": 21
        },
        {
          "output_type": "display_data",
          "data": {
            "image/png": "[encoded data removed]",
            "text/plain": [
              "<Figure size 720x720 with 1 Axes>"
            ]
          },
          "metadata": {
            "tags": []
          }
        }
      ]
    },
    {
      "cell_type": "markdown",
      "metadata": {
        "id": "imYShjWvg4RE",
        "colab_type": "text"
      },
      "source": [
        "Il semble donc que le nord-est de l'État de New York ferait un excellent choix pour un week-end de camping itinérant !\n",
        "\n",
        "# À votre tour\n",
        "\n",
        "Cela semble complexe au début, mais vous savez déjà ce qu'il faut pour faire une analyse importante. \n",
        "Voyez vous-même comme vous ** [identifiez les régions éloignées](https://www.kaggle.com/kernels/fork/5832167)** des Philippines où un organisme humanitaire pourrait étendre ses activités.\n"
      ]
    },
    {
      "cell_type": "markdown",
      "metadata": {
        "id": "f44lB3KEg4RF",
        "colab_type": "text"
      },
      "source": [
        "\n",
        "**[Geospatial Analysis Home Page](https://www.kaggle.com/learn/geospatial-analysis)**\n",
        "\n",
        "* Vous avez des questions ou des commentaires? Visitez le [forum de discussion sur l’apprentissage] (https://www.kaggle.com/learn-forum)  pour discuter avec d’autres apprenants\n"
      ]
    }
  ]
}